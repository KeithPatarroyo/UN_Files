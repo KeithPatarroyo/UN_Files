{
 "cells": [
  {
   "cell_type": "markdown",
   "metadata": {},
   "source": [
    "# Parcial 2, punto E"
   ]
  },
  {
   "cell_type": "markdown",
   "metadata": {},
   "source": [
    "## _Coordinates_ and _MetricTensor_"
   ]
  },
  {
   "cell_type": "markdown",
   "metadata": {},
   "source": [
    "Import the gravipy package and initialization of a pretty-printing mode in IPython environment"
   ]
  },
  {
   "cell_type": "code",
   "execution_count": 1,
   "metadata": {
    "collapsed": false
   },
   "outputs": [],
   "source": [
    "from gravipy import * # import SymPy and GraviPy package\n",
    "init_printing()"
   ]
  },
  {
   "cell_type": "markdown",
   "metadata": {},
   "source": [
    "Definition of coordinates and metric tensor."
   ]
  },
  {
   "cell_type": "code",
   "execution_count": 9,
   "metadata": {
    "collapsed": false
   },
   "outputs": [],
   "source": [
    "n=2 # Dimension of the Manifold\n",
    "a, vphi, theta, b = symbols('a, \\\\varphi, \\\\theta, b') # define symbolic variables\n",
    "x = Coordinates('\\chi', [theta, vphi]) # create a four-vector of coordinates object instantiating the Coordinates class\n",
    "Metric = diag((a + b * cos(vphi))**2, b**2 ) # define a matrix of a metric tensor components  \n",
    "g = MetricTensor('g', x, Metric) # create a metric tensor object instantiating the MetricTensor class"
   ]
  },
  {
   "cell_type": "markdown",
   "metadata": {},
   "source": [
    "Each component of any tensor object, can be computed by calling covariant indices with positive integer values (1, 2, ..., dim) and contravariant indices with negative values (-dim, ..., -2, -1)."
   ]
  },
  {
   "cell_type": "code",
   "execution_count": 10,
   "metadata": {
    "collapsed": false
   },
   "outputs": [
    {
     "data": {
      "image/png": "[encoded data removed]",
      "text/latex": [
       "$$\\theta$$"
      ],
      "text/plain": [
       "\\theta"
      ]
     },
     "execution_count": 10,
     "metadata": {},
     "output_type": "execute_result"
    }
   ],
   "source": [
    "x(-1)"
   ]
  },
  {
   "cell_type": "code",
   "execution_count": 11,
   "metadata": {
    "collapsed": false,
    "scrolled": true
   },
   "outputs": [
    {
     "data": {
      "text/latex": [
       "$$x^{1} = \\theta$$"
      ],
      "text/plain": [
       "<IPython.core.display.Math object>"
      ]
     },
     "metadata": {},
     "output_type": "display_data"
    },
    {
     "data": {
      "text/latex": [
       "$$x^{2} = \\varphi$$"
      ],
      "text/plain": [
       "<IPython.core.display.Math object>"
      ]
     },
     "metadata": {},
     "output_type": "display_data"
    }
   ],
   "source": [
    "from IPython.core.display import display, Math\n",
    "\n",
    "for i in range(1,n+1):\n",
    "    display(Math('x^{'+str(i)+'} = '+latex(x(-i))))\n"
   ]
  },
  {
   "cell_type": "code",
   "execution_count": 12,
   "metadata": {
    "collapsed": false
   },
   "outputs": [
    {
     "data": {
      "text/latex": [
       "$$x_{1} = \\theta \\left(a + b \\cos{\\left (\\varphi \\right )}\\right)^{2}$$"
      ],
      "text/plain": [
       "<IPython.core.display.Math object>"
      ]
     },
     "metadata": {},
     "output_type": "display_data"
    },
    {
     "data": {
      "text/latex": [
       "$$x_{2} = \\varphi b^{2}$$"
      ],
      "text/plain": [
       "<IPython.core.display.Math object>"
      ]
     },
     "metadata": {},
     "output_type": "display_data"
    }
   ],
   "source": [
    "for i in range(1,n+1):\n",
    "    display(Math('x_{'+str(i)+'} = '+latex(x(i))))"
   ]
  },
  {
   "cell_type": "code",
   "execution_count": 13,
   "metadata": {
    "collapsed": false
   },
   "outputs": [
    {
     "data": {
      "image/png": "[encoded data removed]",
      "text/latex": [
       "$$0$$"
      ],
      "text/plain": [
       "0"
      ]
     },
     "execution_count": 13,
     "metadata": {},
     "output_type": "execute_result"
    }
   ],
   "source": [
    "g(-2, -1)"
   ]
  },
  {
   "cell_type": "code",
   "execution_count": 14,
   "metadata": {
    "collapsed": false
   },
   "outputs": [
    {
     "data": {
      "image/png": "[encoded data removed]",
      "text/latex": [
       "$$\\left(a + b \\cos{\\left (\\varphi \\right )}\\right)^{2}$$"
      ],
      "text/plain": [
       "                    2\n",
       "(a + b⋅cos(\\varphi)) "
      ]
     },
     "execution_count": 14,
     "metadata": {},
     "output_type": "execute_result"
    }
   ],
   "source": [
    "g(1,1)"
   ]
  },
  {
   "cell_type": "code",
   "execution_count": 15,
   "metadata": {
    "collapsed": false
   },
   "outputs": [
    {
     "data": {
      "image/png": "[encoded data removed]",
      "text/latex": [
       "$$\\theta \\left(a + b \\cos{\\left (\\varphi \\right )}\\right)^{2}$$"
      ],
      "text/plain": [
       "                           2\n",
       "\\theta⋅(a + b⋅cos(\\varphi)) "
      ]
     },
     "execution_count": 15,
     "metadata": {},
     "output_type": "execute_result"
    }
   ],
   "source": [
    "x(1)"
   ]
  },
  {
   "cell_type": "markdown",
   "metadata": {},
   "source": [
    "Visualization can be made in matrix representation:"
   ]
  },
  {
   "cell_type": "code",
   "execution_count": 16,
   "metadata": {
    "collapsed": false
   },
   "outputs": [
    {
     "data": {
      "image/png": "[encoded data removed]",
      "text/latex": [
       "$$\\left[\\begin{matrix}\\theta & \\varphi\\end{matrix}\\right]$$"
      ],
      "text/plain": [
       "[\\theta  \\varphi]"
      ]
     },
     "execution_count": 16,
     "metadata": {},
     "output_type": "execute_result"
    }
   ],
   "source": [
    "x(-All)"
   ]
  },
  {
   "cell_type": "code",
   "execution_count": 17,
   "metadata": {
    "collapsed": false
   },
   "outputs": [
    {
     "data": {
      "image/png": "[encoded data removed]",
      "text/latex": [
       "$$\\left[\\begin{matrix}\\left(a + b \\cos{\\left (\\varphi \\right )}\\right)^{2} & 0\\\\0 & b^{2}\\end{matrix}\\right]$$"
      ],
      "text/plain": [
       "⎡                    2    ⎤\n",
       "⎢(a + b⋅cos(\\varphi))   0 ⎥\n",
       "⎢                         ⎥\n",
       "⎢                        2⎥\n",
       "⎣          0            b ⎦"
      ]
     },
     "execution_count": 17,
     "metadata": {},
     "output_type": "execute_result"
    }
   ],
   "source": [
    "g(All, All)"
   ]
  },
  {
   "cell_type": "code",
   "execution_count": 18,
   "metadata": {
    "collapsed": false
   },
   "outputs": [
    {
     "data": {
      "image/png": "[encoded data removed]",
      "text/latex": [
       "$$\\left[\\begin{matrix}0 & b^{2}\\end{matrix}\\right]$$"
      ],
      "text/plain": [
       "⎡    2⎤\n",
       "⎣0  b ⎦"
      ]
     },
     "execution_count": 18,
     "metadata": {},
     "output_type": "execute_result"
    }
   ],
   "source": [
    "g(All, n)"
   ]
  },
  {
   "cell_type": "markdown",
   "metadata": {},
   "source": [
    "## Predefined Tensors"
   ]
  },
  {
   "cell_type": "markdown",
   "metadata": {},
   "source": [
    "The GraviPy package contains a number of predetermined _Tensors_:"
   ]
  },
  {
   "cell_type": "code",
   "execution_count": 19,
   "metadata": {
    "collapsed": false
   },
   "outputs": [
    {
     "name": "stdout",
     "output_type": "stream",
     "text": [
      "['Christoffel', 'Ricci', 'Riemann', 'Einstein', 'Geodesic']\n"
     ]
    }
   ],
   "source": [
    "print([cls.__name__ for cls in vars()['Tensor'].__subclasses__()])"
   ]
  },
  {
   "cell_type": "markdown",
   "metadata": {},
   "source": [
    "### The _Christoffel_ symbols"
   ]
  },
  {
   "cell_type": "markdown",
   "metadata": {},
   "source": [
    "_Christoffel_ class that represents Christoffel symbols of the first and second kind. (Note that the Christoffel symbols are not tensors) "
   ]
  },
  {
   "cell_type": "markdown",
   "metadata": {},
   "source": [
    "$$ \\Gamma_{\\rho \\mu \\nu} = g_{\\rho \\sigma}\\Gamma^{\\sigma}_{\\ \\mu \\nu} = \\frac{1}{2}(g_{\\rho \\mu, \\nu} + g_{\\rho \\nu, \\mu} - g_{\\mu \\nu, \\rho})$$\n"
   ]
  },
  {
   "cell_type": "markdown",
   "metadata": {},
   "source": [
    "Let's create an instance of the _Christoffel_ class for the Schwarzschild metric g and compute some components of the object"
   ]
  },
  {
   "cell_type": "code",
   "execution_count": 20,
   "metadata": {
    "collapsed": false
   },
   "outputs": [
    {
     "data": {
      "image/png": "[encoded data removed]",
      "text/latex": [
       "$$- b \\left(a + b \\cos{\\left (\\varphi \\right )}\\right) \\sin{\\left (\\varphi \\right )}$$"
      ],
      "text/plain": [
       "-b⋅(a + b⋅cos(\\varphi))⋅sin(\\varphi)"
      ]
     },
     "execution_count": 20,
     "metadata": {},
     "output_type": "execute_result"
    }
   ],
   "source": [
    "Ga = Christoffel('Ga', g)\n",
    "Ga(1, 2, 1)"
   ]
  },
  {
   "cell_type": "markdown",
   "metadata": {},
   "source": [
    "Connections are Christoffel symbols of the second kind, and they are called as"
   ]
  },
  {
   "cell_type": "code",
   "execution_count": 21,
   "metadata": {
    "collapsed": false
   },
   "outputs": [
    {
     "data": {
      "image/png": "[encoded data removed]",
      "text/latex": [
       "$$0$$"
      ],
      "text/plain": [
       "0"
      ]
     },
     "execution_count": 21,
     "metadata": {},
     "output_type": "execute_result"
    }
   ],
   "source": [
    "Ga(-2,2,1)"
   ]
  },
  {
   "cell_type": "markdown",
   "metadata": {},
   "source": [
    "To visualize all the components we use the attribute .components"
   ]
  },
  {
   "cell_type": "code",
   "execution_count": 22,
   "metadata": {
    "collapsed": false
   },
   "outputs": [
    {
     "data": {
      "image/png": "[encoded data removed]",
      "text/latex": [
       "$$\\left \\{ \\left ( -2, \\quad 2, \\quad 1\\right ) : 0, \\quad \\left ( 1, \\quad 1, \\quad 2\\right ) : - b \\left(a + b \\cos{\\left (\\varphi \\right )}\\right) \\sin{\\left (\\varphi \\right )}, \\quad \\left ( 1, \\quad 2, \\quad 1\\right ) : - b \\left(a + b \\cos{\\left (\\varphi \\right )}\\right) \\sin{\\left (\\varphi \\right )}, \\quad \\left ( 2, \\quad 1, \\quad 2\\right ) : 0, \\quad \\left ( 2, \\quad 2, \\quad 1\\right ) : 0\\right \\}$$"
      ],
      "text/plain": [
       "{(-2, 2, 1): 0, (1, 1, 2): -b⋅(a + b⋅cos(\\varphi))⋅sin(\\varphi), (1, 2, 1): -b\n",
       "⋅(a + b⋅cos(\\varphi))⋅sin(\\varphi), (2, 1, 2): 0, (2, 2, 1): 0}"
      ]
     },
     "execution_count": 22,
     "metadata": {},
     "output_type": "execute_result"
    }
   ],
   "source": [
    "Ga.components"
   ]
  },
  {
   "cell_type": "markdown",
   "metadata": {},
   "source": [
    "The _Matrix_ representation of the Connections is the following"
   ]
  },
  {
   "cell_type": "code",
   "execution_count": 23,
   "metadata": {
    "collapsed": false
   },
   "outputs": [
    {
     "data": {
      "image/png": "[encoded data removed]",
      "text/latex": [
       "$$\\left[\\begin{matrix}\\left[\\begin{matrix}0 & - \\frac{b \\sin{\\left (\\varphi \\right )}}{a + b \\cos{\\left (\\varphi \\right )}}\\\\- \\frac{b \\sin{\\left (\\varphi \\right )}}{a + b \\cos{\\left (\\varphi \\right )}} & 0\\end{matrix}\\right] & \\left[\\begin{matrix}\\frac{1}{b} \\left(a + b \\cos{\\left (\\varphi \\right )}\\right) \\sin{\\left (\\varphi \\right )} & 0\\\\0 & 0\\end{matrix}\\right]\\end{matrix}\\right]$$"
      ],
      "text/plain": [
       "⎡⎡                     -b⋅sin(\\varphi)  ⎤  ⎡(a + b⋅cos(\\varphi))⋅sin(\\varphi) \n",
       "⎢⎢        0           ──────────────────⎥  ⎢───────────────────────────────── \n",
       "⎢⎢                    a + b⋅cos(\\varphi)⎥  ⎢                b                 \n",
       "⎢⎢                                      ⎥  ⎢                                  \n",
       "⎢⎢ -b⋅sin(\\varphi)                      ⎥  ⎣                0                 \n",
       "⎢⎢──────────────────          0         ⎥                                     \n",
       "⎣⎣a + b⋅cos(\\varphi)                    ⎦                                     \n",
       "\n",
       "  ⎤⎤\n",
       " 0⎥⎥\n",
       "  ⎥⎥\n",
       "  ⎥⎥\n",
       " 0⎦⎥\n",
       "   ⎥\n",
       "   ⎦"
      ]
     },
     "execution_count": 23,
     "metadata": {},
     "output_type": "execute_result"
    }
   ],
   "source": [
    "Ga(-All, All, All)"
   ]
  },
  {
   "cell_type": "markdown",
   "metadata": {},
   "source": [
    "### The _Riemann_ Tensor"
   ]
  },
  {
   "cell_type": "markdown",
   "metadata": {},
   "source": [
    "$$ R_{\\mu \\nu \\rho \\sigma} = \\frac{\\partial \\Gamma_{\\mu \\nu \\sigma}}{\\partial x^{\\rho}} - \\frac{\\partial \\Gamma_{\\mu \\nu \\rho}}{\\partial x^{\\sigma}} + \\Gamma^{\\alpha}_{\\ \\nu \\sigma}\\Gamma_{\\mu \\rho \\alpha} - \\Gamma^{\\alpha}_{\\ \\nu \\rho}\\Gamma_{\\mu \\sigma \\alpha} - \\frac{\\partial g_{\\mu \\alpha}}{\\partial x^{\\rho}}\\Gamma^{\\alpha}_{\\ \\nu \\sigma} + \\frac{\\partial g_{\\mu \\alpha}}{\\partial x^{\\sigma}}\\Gamma^{\\alpha}_{\\ \\nu \\rho} $$"
   ]
  },
  {
   "cell_type": "code",
   "execution_count": 24,
   "metadata": {
    "collapsed": false
   },
   "outputs": [],
   "source": [
    "Rm = Riemann('Rm', g)"
   ]
  },
  {
   "cell_type": "markdown",
   "metadata": {},
   "source": [
    "Nonzero components of the _Riemann_ tensor (up to symmetries) are"
   ]
  },
  {
   "cell_type": "code",
   "execution_count": 25,
   "metadata": {
    "collapsed": false
   },
   "outputs": [
    {
     "data": {
      "text/latex": [
       "$$R_{1212} = b \\left(a + b \\cos{\\left (\\varphi \\right )}\\right) \\cos{\\left (\\varphi \\right )}$$"
      ],
      "text/plain": [
       "<IPython.core.display.Math object>"
      ]
     },
     "metadata": {},
     "output_type": "display_data"
    }
   ],
   "source": [
    "from IPython.core.display import display, Math\n",
    "for i, j, k, l in list(variations(range(1, n+1), 4, True)):\n",
    "    if Rm(i, j, k, l) != 0 and k<l and i<j:\n",
    "        display(Math('R_{'+str(i)+str(j)+str(k)+str(l)+'} = '+latex(Rm(i, j, k, l))))"
   ]
  },
  {
   "cell_type": "markdown",
   "metadata": {},
   "source": [
    "You can also display the matrix representation of the tensor"
   ]
  },
  {
   "cell_type": "code",
   "execution_count": 26,
   "metadata": {
    "collapsed": false
   },
   "outputs": [
    {
     "data": {
      "image/png": "[encoded data removed]",
      "text/latex": [
       "$$\\left[\\begin{matrix}\\left[\\begin{matrix}0 & 0\\\\0 & 0\\end{matrix}\\right] & \\left[\\begin{matrix}0 & b \\left(a + b \\cos{\\left (\\varphi \\right )}\\right) \\cos{\\left (\\varphi \\right )}\\\\- b \\left(a + b \\cos{\\left (\\varphi \\right )}\\right) \\cos{\\left (\\varphi \\right )} & 0\\end{matrix}\\right]\\\\\\left[\\begin{matrix}0 & - b \\left(a + b \\cos{\\left (\\varphi \\right )}\\right) \\cos{\\left (\\varphi \\right )}\\\\b \\left(a + b \\cos{\\left (\\varphi \\right )}\\right) \\cos{\\left (\\varphi \\right )} & 0\\end{matrix}\\right] & \\left[\\begin{matrix}0 & 0\\\\0 & 0\\end{matrix}\\right]\\end{matrix}\\right]$$"
      ],
      "text/plain": [
       "⎡                                  ⎡0  0⎤                                     \n",
       "⎢                                  ⎢    ⎥                                     \n",
       "⎢                                  ⎣0  0⎦                                     \n",
       "⎢                                                                             \n",
       "⎢⎡                 0                   -b⋅(a + b⋅cos(\\varphi))⋅cos(\\varphi)⎤  \n",
       "⎢⎢                                                                         ⎥  \n",
       "⎣⎣b⋅(a + b⋅cos(\\varphi))⋅cos(\\varphi)                   0                  ⎦  \n",
       "\n",
       "⎡                 0                    b⋅(a + b⋅cos(\\varphi))⋅cos(\\varphi)⎤⎤\n",
       "⎢                                                                         ⎥⎥\n",
       "⎣-b⋅(a + b⋅cos(\\varphi))⋅cos(\\varphi)                   0                 ⎦⎥\n",
       "                                                                           ⎥\n",
       "                                  ⎡0  0⎤                                   ⎥\n",
       "                                  ⎢    ⎥                                   ⎥\n",
       "                                  ⎣0  0⎦                                   ⎦"
      ]
     },
     "execution_count": 26,
     "metadata": {},
     "output_type": "execute_result"
    }
   ],
   "source": [
    "Rm(All, All, All, All)"
   ]
  },
  {
   "cell_type": "markdown",
   "metadata": {},
   "source": [
    "Contraction of the _Riemann_ tensor $R_{\\mu \\nu} = R^{\\rho}_{\\ \\mu \\rho \\nu} $"
   ]
  },
  {
   "cell_type": "code",
   "execution_count": 27,
   "metadata": {
    "collapsed": false
   },
   "outputs": [
    {
     "data": {
      "image/png": "[encoded data removed]",
      "text/latex": [
       "$$\\left[\\begin{matrix}\\frac{1}{b} \\left(a + b \\cos{\\left (\\varphi \\right )}\\right) \\cos{\\left (\\varphi \\right )} & 0\\\\0 & \\frac{b \\cos{\\left (\\varphi \\right )}}{a + b \\cos{\\left (\\varphi \\right )}}\\end{matrix}\\right]$$"
      ],
      "text/plain": [
       "⎡(a + b⋅cos(\\varphi))⋅cos(\\varphi)                    ⎤\n",
       "⎢─────────────────────────────────          0         ⎥\n",
       "⎢                b                                    ⎥\n",
       "⎢                                                     ⎥\n",
       "⎢                                     b⋅cos(\\varphi)  ⎥\n",
       "⎢                0                  ──────────────────⎥\n",
       "⎣                                   a + b⋅cos(\\varphi)⎦"
      ]
     },
     "execution_count": 27,
     "metadata": {},
     "output_type": "execute_result"
    }
   ],
   "source": [
    "ricci = sum([Rm(i, All, k, All)*g(-i, -k) for i, k in list(variations(range(1, 3), 2, True))], zeros(n))\n",
    "ricci.simplify()\n",
    "ricci"
   ]
  },
  {
   "cell_type": "markdown",
   "metadata": {},
   "source": [
    "### The _Ricci_ Tensor"
   ]
  },
  {
   "cell_type": "markdown",
   "metadata": {},
   "source": [
    "$$ R_{\\mu \\nu} = \\frac{\\partial \\Gamma^{\\sigma}_{\\ \\mu \\nu}}{\\partial x^{\\sigma}} - \\frac{\\partial \\Gamma^{\\sigma}_{\\ \\mu \\sigma}}{\\partial x^{\\nu}} + \\Gamma^{\\sigma}_{\\ \\mu \\nu}\\Gamma^{\\rho}_{\\ \\sigma \\rho} - \\Gamma^{\\rho}_{\\ \\mu \\sigma}\\Gamma^{\\sigma}_{\\ \\nu \\rho} $$"
   ]
  },
  {
   "cell_type": "code",
   "execution_count": 28,
   "metadata": {
    "collapsed": false
   },
   "outputs": [
    {
     "data": {
      "image/png": "[encoded data removed]",
      "text/latex": [
       "$$\\left[\\begin{matrix}\\frac{1}{b} \\left(a + b \\cos{\\left (\\varphi \\right )}\\right) \\cos{\\left (\\varphi \\right )} & 0\\\\0 & \\frac{b \\cos{\\left (\\varphi \\right )}}{a + b \\cos{\\left (\\varphi \\right )}}\\end{matrix}\\right]$$"
      ],
      "text/plain": [
       "⎡(a + b⋅cos(\\varphi))⋅cos(\\varphi)                    ⎤\n",
       "⎢─────────────────────────────────          0         ⎥\n",
       "⎢                b                                    ⎥\n",
       "⎢                                                     ⎥\n",
       "⎢                                     b⋅cos(\\varphi)  ⎥\n",
       "⎢                0                  ──────────────────⎥\n",
       "⎣                                   a + b⋅cos(\\varphi)⎦"
      ]
     },
     "execution_count": 28,
     "metadata": {},
     "output_type": "execute_result"
    }
   ],
   "source": [
    "Ri = Ricci('Ri', g)\n",
    "Ri(All, All)"
   ]
  },
  {
   "cell_type": "markdown",
   "metadata": {},
   "source": [
    "Contraction of the _Ricci_ tensor $R = R_{\\mu}^{\\ \\mu} = g^{\\mu \\nu}R_{\\mu \\nu}$ can be computed with the attribute .scalar()"
   ]
  },
  {
   "cell_type": "code",
   "execution_count": 29,
   "metadata": {
    "collapsed": false
   },
   "outputs": [
    {
     "data": {
      "image/png": "[encoded data removed]",
      "text/latex": [
       "$$\\frac{2 \\cos{\\left (\\varphi \\right )}}{b \\left(a + b \\cos{\\left (\\varphi \\right )}\\right)}$$"
      ],
      "text/plain": [
       "    2⋅cos(\\varphi)    \n",
       "──────────────────────\n",
       "b⋅(a + b⋅cos(\\varphi))"
      ]
     },
     "execution_count": 29,
     "metadata": {},
     "output_type": "execute_result"
    }
   ],
   "source": [
    "Ri.scalar()"
   ]
  },
  {
   "cell_type": "markdown",
   "metadata": {},
   "source": [
    "### The _Einstein_ tensor"
   ]
  },
  {
   "cell_type": "markdown",
   "metadata": {},
   "source": [
    "$$ G_{\\mu \\nu} = R_{\\mu \\nu} - \\frac{1}{2}g_{\\mu \\nu}R $$"
   ]
  },
  {
   "cell_type": "code",
   "execution_count": 30,
   "metadata": {
    "collapsed": false
   },
   "outputs": [
    {
     "data": {
      "image/png": "[encoded data removed]",
      "text/latex": [
       "$$\\left[\\begin{matrix}0 & 0\\\\0 & 0\\end{matrix}\\right]$$"
      ],
      "text/plain": [
       "⎡0  0⎤\n",
       "⎢    ⎥\n",
       "⎣0  0⎦"
      ]
     },
     "execution_count": 30,
     "metadata": {},
     "output_type": "execute_result"
    }
   ],
   "source": [
    "G = Einstein('G', Ri)\n",
    "G(All, All)"
   ]
  },
  {
   "cell_type": "markdown",
   "metadata": {},
   "source": [
    "### _Geodesics_"
   ]
  },
  {
   "cell_type": "markdown",
   "metadata": {},
   "source": [
    "$$ w_{\\mu}  = \\frac{d^2x_{\\mu}}{d\\tau^2} - \\frac{1}{2}g_{\\rho \\sigma, \\mu} \\frac{dx^{\\rho}}{d\\tau}\\frac{dx^{\\sigma}}{d\\tau} $$"
   ]
  },
  {
   "cell_type": "code",
   "execution_count": 31,
   "metadata": {
    "collapsed": false
   },
   "outputs": [
    {
     "data": {
      "image/png": "[encoded data removed]",
      "text/latex": [
       "$$\\left[\\begin{matrix}- 2 b \\left(a + b \\cos{\\left (\\varphi{\\left (\\tau \\right )} \\right )}\\right) \\sin{\\left (\\varphi{\\left (\\tau \\right )} \\right )} \\frac{d}{d \\tau} \\theta{\\left (\\tau \\right )} \\frac{d}{d \\tau} \\varphi{\\left (\\tau \\right )} + \\left(a + b \\cos{\\left (\\varphi{\\left (\\tau \\right )} \\right )}\\right)^{2} \\frac{d^{2}}{d \\tau^{2}}  \\theta{\\left (\\tau \\right )}\\\\b^{2} \\frac{d^{2}}{d \\tau^{2}}  \\varphi{\\left (\\tau \\right )} + b \\left(a + b \\cos{\\left (\\varphi{\\left (\\tau \\right )} \\right )}\\right) \\sin{\\left (\\varphi{\\left (\\tau \\right )} \\right )} \\left(\\frac{d}{d \\tau} \\theta{\\left (\\tau \\right )}\\right)^{2}\\end{matrix}\\right]$$"
      ],
      "text/plain": [
       "⎡                                                                             \n",
       "⎢                                                      d                   d  \n",
       "⎢- 2⋅b⋅(a + b⋅cos(\\varphi(\\tau)))⋅sin(\\varphi(\\tau))⋅─────(\\theta(\\tau))⋅─────\n",
       "⎢                                                    d\\tau               d\\tau\n",
       "⎢                                                                             \n",
       "⎢                                                                             \n",
       "⎢                             2                                               \n",
       "⎢                        2   d                                                \n",
       "⎢                       b ⋅──────(\\varphi(\\tau)) + b⋅(a + b⋅cos(\\varphi(\\tau))\n",
       "⎢                               2                                             \n",
       "⎣                          d\\tau                                              \n",
       "\n",
       "                                                 2                ⎤\n",
       "                                            2   d                 ⎥\n",
       "(\\varphi(\\tau)) + (a + b⋅cos(\\varphi(\\tau))) ⋅──────(\\theta(\\tau))⎥\n",
       "                                                   2              ⎥\n",
       "                                              d\\tau               ⎥\n",
       "                                                                  ⎥\n",
       "                                          2                       ⎥\n",
       "                     ⎛  d                ⎞                        ⎥\n",
       ")⋅sin(\\varphi(\\tau))⋅⎜─────(\\theta(\\tau))⎟                        ⎥\n",
       "                     ⎝d\\tau              ⎠                        ⎥\n",
       "                                                                  ⎦"
      ]
     },
     "execution_count": 31,
     "metadata": {},
     "output_type": "execute_result"
    }
   ],
   "source": [
    "tau = Symbol('\\\\tau')\n",
    "w = Geodesic('w', g, tau)\n",
    "w(All).transpose()"
   ]
  },
  {
   "cell_type": "markdown",
   "metadata": {},
   "source": [
    "Please note that instantiation of a _Geodesic_ class for the metric $g$ automatically turns on a _Parametrization_ mode for the metric $g$.  \n",
    "Then all coordinates are functions of a world line parameter $\\tau$"
   ]
  },
  {
   "cell_type": "markdown",
   "metadata": {},
   "source": [
    "### _Kretchmann_ Scalar"
   ]
  },
  {
   "cell_type": "markdown",
   "metadata": {},
   "source": [
    "$K = R_{\\mu  \\nu \\rho \\sigma} R^{\\mu \\nu \\rho \\sigma}$"
   ]
  },
  {
   "cell_type": "code",
   "execution_count": 32,
   "metadata": {
    "collapsed": false
   },
   "outputs": [
    {
     "data": {
      "image/png": "[encoded data removed]",
      "text/latex": [
       "$$\\frac{4 \\cos^{2}{\\left (\\varphi{\\left (\\tau \\right )} \\right )}}{b^{2} \\left(a + b \\cos{\\left (\\varphi{\\left (\\tau \\right )} \\right )}\\right)^{2}}$$"
      ],
      "text/plain": [
       "         2                    \n",
       "    4⋅cos (\\varphi(\\tau))     \n",
       "──────────────────────────────\n",
       " 2                           2\n",
       "b ⋅(a + b⋅cos(\\varphi(\\tau))) "
      ]
     },
     "execution_count": 32,
     "metadata": {},
     "output_type": "execute_result"
    }
   ],
   "source": [
    "kretch = sum([Rm(i, j, k, l)*Rm(-i, -j, -k, -l) for i, j, k, l in list(variations(range(1, n+1), 4, repetition=True))])\n",
    "kretch.simplify()\n",
    "kretch"
   ]
  },
  {
   "cell_type": "code",
   "execution_count": 39,
   "metadata": {
    "collapsed": false
   },
   "outputs": [
    {
     "ename": "KeyError",
     "evalue": "63",
     "output_type": "error",
     "traceback": [
      "\u001b[0;31m---------------------------------------------------------------------------\u001b[0m",
      "\u001b[0;31mKeyError\u001b[0m                                  Traceback (most recent call last)",
      "\u001b[0;32m<ipython-input-39-f9cf694adcad>\u001b[0m in \u001b[0;36m<module>\u001b[0;34m()\u001b[0m\n\u001b[0;32m----> 1\u001b[0;31m \u001b[0msimplify\u001b[0m\u001b[0;34m(\u001b[0m\u001b[0mOut\u001b[0m\u001b[0;34m[\u001b[0m\u001b[0;36m63\u001b[0m\u001b[0;34m]\u001b[0m\u001b[0;34m)\u001b[0m\u001b[0;34m\u001b[0m\u001b[0m\n\u001b[0m",
      "\u001b[0;31mKeyError\u001b[0m: 63"
     ]
    }
   ],
   "source": [
    "simplify(Out[63])"
   ]
  },
  {
   "cell_type": "code",
   "execution_count": null,
   "metadata": {
    "collapsed": true
   },
   "outputs": [],
   "source": []
  }
 ],
 "metadata": {
  "kernelspec": {
   "display_name": "Python 2",
   "language": "python",
   "name": "python2"
  },
  "language_info": {
   "codemirror_mode": {
    "name": "ipython",
    "version": 2
   },
   "file_extension": ".py",
   "mimetype": "text/x-python",
   "name": "python",
   "nbconvert_exporter": "python",
   "pygments_lexer": "ipython2",
   "version": "2.7.12"
  }
 },
 "nbformat": 4,
 "nbformat_minor": 0
}
