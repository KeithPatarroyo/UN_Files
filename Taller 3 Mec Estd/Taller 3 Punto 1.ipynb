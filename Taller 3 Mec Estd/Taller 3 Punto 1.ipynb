{
 "cells": [
  {
   "cell_type": "code",
   "execution_count": 1,
   "metadata": {
    "collapsed": true
   },
   "outputs": [],
   "source": [
    "#!/usr/bin/python\n",
    "\n",
    "import numpy as np\n",
    "import matplotlib.pyplot as plt\n",
    "from scipy.optimize import fsolve"
   ]
  },
  {
   "cell_type": "code",
   "execution_count": 25,
   "metadata": {
    "collapsed": false
   },
   "outputs": [],
   "source": [
    "# Define the expression whose roots we want to find\n",
    "\n",
    "rho = 1.e9\n",
    "d = 60.\n",
    "N = 1.e12\n",
    "D = 10.\n",
    "\n",
    "func = lambda t : rho - N * 1./(np.sqrt(2.*D*t)*np.sqrt(2.*np.pi))*np.exp(-1./2.*(d/np.sqrt(2.*D*t))**2.)"
   ]
  },
  {
   "cell_type": "code",
   "execution_count": 29,
   "metadata": {
    "collapsed": false
   },
   "outputs": [
    {
     "data": {
      "image/png": "[encoded data removed]",
      "text/plain": [
       "<matplotlib.figure.Figure at 0x7feef8145190>"
      ]
     },
     "metadata": {},
     "output_type": "display_data"
    }
   ],
   "source": [
    "# Plot it\n",
    "\n",
    "t = np.linspace(0.5, 50., 201)\n",
    "\n",
    "plt.plot(t, func(t))\n",
    "plt.xlabel(\"t\")\n",
    "plt.ylabel(\"expression value\")\n",
    "plt.grid()\n",
    "plt.show()"
   ]
  },
  {
   "cell_type": "code",
   "execution_count": 30,
   "metadata": {
    "collapsed": false
   },
   "outputs": [
    {
     "name": "stdout",
     "output_type": "stream",
     "text": [
      "The solution is tau = 32.773217\n",
      "at which the value of the expression is -0.000000\n"
     ]
    }
   ],
   "source": [
    "# Use the numerical solver to find the roots\n",
    "\n",
    "tau_initial_guess = 30.\n",
    "tau_solution = fsolve(func, tau_initial_guess)\n",
    "\n",
    "print \"The solution is tau = %f\" % tau_solution\n",
    "print \"at which the value of the expression is %f\" % func(tau_solution)"
   ]
  },
  {
   "cell_type": "code",
   "execution_count": null,
   "metadata": {
    "collapsed": true
   },
   "outputs": [],
   "source": []
  }
 ],
 "metadata": {
  "kernelspec": {
   "display_name": "Python 2",
   "language": "python",
   "name": "python2"
  },
  "language_info": {
   "codemirror_mode": {
    "name": "ipython",
    "version": 2
   },
   "file_extension": ".py",
   "mimetype": "text/x-python",
   "name": "python",
   "nbconvert_exporter": "python",
   "pygments_lexer": "ipython2",
   "version": "2.7.12"
  }
 },
 "nbformat": 4,
 "nbformat_minor": 1
}
