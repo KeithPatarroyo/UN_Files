{
 "cells": [
  {
   "cell_type": "markdown",
   "metadata": {},
   "source": [
    "# Parcial 3, punto 5)"
   ]
  },
  {
   "cell_type": "markdown",
   "metadata": {},
   "source": [
    "Import the gravipy package and initialization of a pretty-printing mode in IPython environment"
   ]
  },
  {
   "cell_type": "code",
   "execution_count": 2,
   "metadata": {
    "collapsed": false
   },
   "outputs": [],
   "source": [
    "from gravipy import * # import SymPy and GraviPy package\n",
    "init_printing()"
   ]
  },
  {
   "cell_type": "markdown",
   "metadata": {},
   "source": [
    "### Calculation for metric:\n",
    "$$ d\\sigma^{2}=e^{\\beta(r)}dr^{2}+r^{2}d\\theta^{2}+r^{2}\\sin^{2}(\\theta)d\\phi^{2},\\tag{5*} $$"
   ]
  },
  {
   "cell_type": "markdown",
   "metadata": {},
   "source": [
    "Definition of coordinates and metric tensor."
   ]
  },
  {
   "cell_type": "code",
   "execution_count": 13,
   "metadata": {
    "collapsed": false
   },
   "outputs": [],
   "source": [
    "n=3 # Dimension of the Manifold\n",
    "beta = Function(\"\\\\beta\")\n",
    "r, theta, phi, = symbols('r, \\\\theta, \\\\varphi') # define symbolic variables\n",
    "x = Coordinates('\\chi', [r, theta, phi]) # create a three-vector of coordinates object instantiating the Coordinates class\n",
    "Metric = diag( exp(beta(r)), r**2,r**2*sin(theta)**2) # define a matrix of a metric tensor components  \n",
    "g = MetricTensor('g', x, Metric) # create a metric tensor object instantiating the MetricTensor class"
   ]
  },
  {
   "cell_type": "markdown",
   "metadata": {},
   "source": [
    "Each component of any tensor object, can be computed by calling covariant indices with positive integer values (1, 2, ..., dim) and contravariant indices with negative values (-dim, ..., -2, -1)."
   ]
  },
  {
   "cell_type": "code",
   "execution_count": 14,
   "metadata": {
    "collapsed": false
   },
   "outputs": [
    {
     "data": {
      "image/png": "[encoded data removed]",
      "text/latex": [
       "$$r$$"
      ],
      "text/plain": [
       "r"
      ]
     },
     "execution_count": 14,
     "metadata": {},
     "output_type": "execute_result"
    }
   ],
   "source": [
    "x(-1)"
   ]
  },
  {
   "cell_type": "code",
   "execution_count": 15,
   "metadata": {
    "collapsed": false,
    "scrolled": true
   },
   "outputs": [
    {
     "data": {
      "text/latex": [
       "$$x^{1} = r$$"
      ],
      "text/plain": [
       "<IPython.core.display.Math object>"
      ]
     },
     "metadata": {},
     "output_type": "display_data"
    },
    {
     "data": {
      "text/latex": [
       "$$x^{2} = \\theta$$"
      ],
      "text/plain": [
       "<IPython.core.display.Math object>"
      ]
     },
     "metadata": {},
     "output_type": "display_data"
    },
    {
     "data": {
      "text/latex": [
       "$$x^{3} = \\varphi$$"
      ],
      "text/plain": [
       "<IPython.core.display.Math object>"
      ]
     },
     "metadata": {},
     "output_type": "display_data"
    }
   ],
   "source": [
    "from IPython.core.display import display, Math\n",
    "\n",
    "for i in range(1,n+1):\n",
    "    display(Math('x^{'+str(i)+'} = '+latex(x(-i))))\n"
   ]
  },
  {
   "cell_type": "code",
   "execution_count": 16,
   "metadata": {
    "collapsed": false
   },
   "outputs": [
    {
     "data": {
      "text/latex": [
       "$$x_{1} = r e^{\\beta{\\left (r \\right )}}$$"
      ],
      "text/plain": [
       "<IPython.core.display.Math object>"
      ]
     },
     "metadata": {},
     "output_type": "display_data"
    },
    {
     "data": {
      "text/latex": [
       "$$x_{2} = \\theta r^{2}$$"
      ],
      "text/plain": [
       "<IPython.core.display.Math object>"
      ]
     },
     "metadata": {},
     "output_type": "display_data"
    },
    {
     "data": {
      "text/latex": [
       "$$x_{3} = \\varphi r^{2} \\sin^{2}{\\left (\\theta \\right )}$$"
      ],
      "text/plain": [
       "<IPython.core.display.Math object>"
      ]
     },
     "metadata": {},
     "output_type": "display_data"
    }
   ],
   "source": [
    "for i in range(1,n+1):\n",
    "    display(Math('x_{'+str(i)+'} = '+latex(x(i))))"
   ]
  },
  {
   "cell_type": "code",
   "execution_count": 17,
   "metadata": {
    "collapsed": false
   },
   "outputs": [
    {
     "data": {
      "image/png": "[encoded data removed]",
      "text/latex": [
       "$$0$$"
      ],
      "text/plain": [
       "0"
      ]
     },
     "execution_count": 17,
     "metadata": {},
     "output_type": "execute_result"
    }
   ],
   "source": [
    "g(-2, -1)"
   ]
  },
  {
   "cell_type": "code",
   "execution_count": 18,
   "metadata": {
    "collapsed": false
   },
   "outputs": [
    {
     "data": {
      "image/png": "[encoded data removed]",
      "text/latex": [
       "$$e^{\\beta{\\left (r \\right )}}$$"
      ],
      "text/plain": [
       " \\beta(r)\n",
       "ℯ        "
      ]
     },
     "execution_count": 18,
     "metadata": {},
     "output_type": "execute_result"
    }
   ],
   "source": [
    "g(1,1)"
   ]
  },
  {
   "cell_type": "code",
   "execution_count": 19,
   "metadata": {
    "collapsed": false
   },
   "outputs": [
    {
     "data": {
      "image/png": "[encoded data removed]",
      "text/latex": [
       "$$r e^{\\beta{\\left (r \\right )}}$$"
      ],
      "text/plain": [
       "   \\beta(r)\n",
       "r⋅ℯ        "
      ]
     },
     "execution_count": 19,
     "metadata": {},
     "output_type": "execute_result"
    }
   ],
   "source": [
    "x(1)"
   ]
  },
  {
   "cell_type": "markdown",
   "metadata": {},
   "source": [
    "Visualization can be made in matrix representation:"
   ]
  },
  {
   "cell_type": "code",
   "execution_count": 20,
   "metadata": {
    "collapsed": false
   },
   "outputs": [
    {
     "data": {
      "image/png": "[encoded data removed]",
      "text/latex": [
       "$$\\left[\\begin{matrix}r & \\theta & \\varphi\\end{matrix}\\right]$$"
      ],
      "text/plain": [
       "[r  \\theta  \\varphi]"
      ]
     },
     "execution_count": 20,
     "metadata": {},
     "output_type": "execute_result"
    }
   ],
   "source": [
    "x(-All)"
   ]
  },
  {
   "cell_type": "code",
   "execution_count": 21,
   "metadata": {
    "collapsed": false
   },
   "outputs": [
    {
     "data": {
      "image/png": "[encoded data removed]",
      "text/latex": [
       "$$\\left[\\begin{matrix}e^{\\beta{\\left (r \\right )}} & 0 & 0\\\\0 & r^{2} & 0\\\\0 & 0 & r^{2} \\sin^{2}{\\left (\\theta \\right )}\\end{matrix}\\right]$$"
      ],
      "text/plain": [
       "⎡ \\beta(r)                     ⎤\n",
       "⎢ℯ          0          0       ⎥\n",
       "⎢                              ⎥\n",
       "⎢            2                 ⎥\n",
       "⎢    0      r          0       ⎥\n",
       "⎢                              ⎥\n",
       "⎢                2    2        ⎥\n",
       "⎣    0      0   r ⋅sin (\\theta)⎦"
      ]
     },
     "execution_count": 21,
     "metadata": {},
     "output_type": "execute_result"
    }
   ],
   "source": [
    "g(All, All)"
   ]
  },
  {
   "cell_type": "code",
   "execution_count": 22,
   "metadata": {
    "collapsed": false
   },
   "outputs": [
    {
     "data": {
      "image/png": "[encoded data removed]",
      "text/latex": [
       "$$\\left[\\begin{matrix}0 & 0 & r^{2} \\sin^{2}{\\left (\\theta \\right )}\\end{matrix}\\right]$$"
      ],
      "text/plain": [
       "⎡       2    2        ⎤\n",
       "⎣0  0  r ⋅sin (\\theta)⎦"
      ]
     },
     "execution_count": 22,
     "metadata": {},
     "output_type": "execute_result"
    }
   ],
   "source": [
    "g(All, n)"
   ]
  },
  {
   "cell_type": "markdown",
   "metadata": {},
   "source": [
    "## Predefined Tensors"
   ]
  },
  {
   "cell_type": "markdown",
   "metadata": {},
   "source": [
    "The GraviPy package contains a number of predetermined _Tensors_:"
   ]
  },
  {
   "cell_type": "code",
   "execution_count": 23,
   "metadata": {
    "collapsed": false
   },
   "outputs": [
    {
     "name": "stdout",
     "output_type": "stream",
     "text": [
      "['Christoffel', 'Ricci', 'Riemann', 'Einstein', 'Geodesic']\n"
     ]
    }
   ],
   "source": [
    "print([cls.__name__ for cls in vars()['Tensor'].__subclasses__()])"
   ]
  },
  {
   "cell_type": "markdown",
   "metadata": {},
   "source": [
    "### The _Christoffel_ symbols"
   ]
  },
  {
   "cell_type": "markdown",
   "metadata": {},
   "source": [
    "_Christoffel_ class that represents Christoffel symbols of the first and second kind. (Note that the Christoffel symbols are not tensors) "
   ]
  },
  {
   "cell_type": "markdown",
   "metadata": {},
   "source": [
    "$$ \\Gamma_{\\rho \\mu \\nu} = g_{\\rho \\sigma}\\Gamma^{\\sigma}_{\\ \\mu \\nu} = \\frac{1}{2}(g_{\\rho \\mu, \\nu} + g_{\\rho \\nu, \\mu} - g_{\\mu \\nu, \\rho})$$\n"
   ]
  },
  {
   "cell_type": "markdown",
   "metadata": {},
   "source": [
    "Let's create an instance of the _Christoffel_ class for the Schwarzschild metric g and compute some components of the object"
   ]
  },
  {
   "cell_type": "code",
   "execution_count": 24,
   "metadata": {
    "collapsed": false
   },
   "outputs": [
    {
     "data": {
      "image/png": "[encoded data removed]",
      "text/latex": [
       "$$0$$"
      ],
      "text/plain": [
       "0"
      ]
     },
     "execution_count": 24,
     "metadata": {},
     "output_type": "execute_result"
    }
   ],
   "source": [
    "Ga = Christoffel('Ga', g)\n",
    "Ga(1, 2, 1)"
   ]
  },
  {
   "cell_type": "markdown",
   "metadata": {},
   "source": [
    "Connections are Christoffel symbols of the second kind, and they are called as"
   ]
  },
  {
   "cell_type": "code",
   "execution_count": 25,
   "metadata": {
    "collapsed": false
   },
   "outputs": [
    {
     "data": {
      "image/png": "[encoded data removed]",
      "text/latex": [
       "$$\\frac{1}{r}$$"
      ],
      "text/plain": [
       "1\n",
       "─\n",
       "r"
      ]
     },
     "execution_count": 25,
     "metadata": {},
     "output_type": "execute_result"
    }
   ],
   "source": [
    "Ga(-2,2,1)"
   ]
  },
  {
   "cell_type": "markdown",
   "metadata": {},
   "source": [
    "To visualize all the components we use the attribute .components"
   ]
  },
  {
   "cell_type": "code",
   "execution_count": 26,
   "metadata": {
    "collapsed": false
   },
   "outputs": [
    {
     "data": {
      "image/png": "[encoded data removed]",
      "text/latex": [
       "$$\\left \\{ \\left ( -2, \\quad 2, \\quad 1\\right ) : \\frac{1}{r}, \\quad \\left ( 1, \\quad 1, \\quad 2\\right ) : 0, \\quad \\left ( 1, \\quad 2, \\quad 1\\right ) : 0, \\quad \\left ( 2, \\quad 1, \\quad 2\\right ) : r, \\quad \\left ( 2, \\quad 2, \\quad 1\\right ) : r, \\quad \\left ( 3, \\quad 1, \\quad 2\\right ) : 0, \\quad \\left ( 3, \\quad 2, \\quad 1\\right ) : 0\\right \\}$$"
      ],
      "text/plain": [
       "⎧            1                                                                \n",
       "⎨(-2, 2, 1): ─, (1, 1, 2): 0, (1, 2, 1): 0, (2, 1, 2): r, (2, 2, 1): r, (3, 1,\n",
       "⎩            r                                                                \n",
       "\n",
       "                    ⎫\n",
       " 2): 0, (3, 2, 1): 0⎬\n",
       "                    ⎭"
      ]
     },
     "execution_count": 26,
     "metadata": {},
     "output_type": "execute_result"
    }
   ],
   "source": [
    "Ga.components"
   ]
  },
  {
   "cell_type": "markdown",
   "metadata": {},
   "source": [
    "The _Matrix_ representation of the Connections is the following"
   ]
  },
  {
   "cell_type": "code",
   "execution_count": 27,
   "metadata": {
    "collapsed": false
   },
   "outputs": [
    {
     "data": {
      "image/png": "[encoded data removed]",
      "text/latex": [
       "$$\\left[\\begin{matrix}\\left[\\begin{matrix}\\frac{1}{2} \\frac{d}{d r} \\beta{\\left (r \\right )} & 0 & 0\\\\0 & - r e^{- \\beta{\\left (r \\right )}} & 0\\\\0 & 0 & - r e^{- \\beta{\\left (r \\right )}} \\sin^{2}{\\left (\\theta \\right )}\\end{matrix}\\right] & \\left[\\begin{matrix}0 & \\frac{1}{r} & 0\\\\\\frac{1}{r} & 0 & 0\\\\0 & 0 & - \\frac{1}{2} \\sin{\\left (2 \\theta \\right )}\\end{matrix}\\right] & \\left[\\begin{matrix}0 & 0 & \\frac{1}{r}\\\\0 & 0 & \\frac{\\sin{\\left (2 \\theta \\right )}}{2 \\sin^{2}{\\left (\\theta \\right )}}\\\\\\frac{1}{r} & \\frac{\\sin{\\left (2 \\theta \\right )}}{2 \\sin^{2}{\\left (\\theta \\right )}} & 0\\end{matrix}\\right]\\end{matrix}\\right]$$"
      ],
      "text/plain": [
       "⎡⎡d                                                      ⎤                    \n",
       "⎢⎢──(\\beta(r))                                           ⎥                    \n",
       "⎢⎢dr                                                     ⎥  ⎡   1             \n",
       "⎢⎢────────────        0                    0             ⎥  ⎢0  ─         0   \n",
       "⎢⎢     2                                                 ⎥  ⎢   r             \n",
       "⎢⎢                                                       ⎥  ⎢                 \n",
       "⎢⎢                  -\\beta(r)                            ⎥  ⎢1                \n",
       "⎢⎢     0        -r⋅ℯ                       0             ⎥  ⎢─  0         0   \n",
       "⎢⎢                                                       ⎥  ⎢r                \n",
       "⎢⎢                                 -\\beta(r)    2        ⎥  ⎢                 \n",
       "⎢⎣     0              0        -r⋅ℯ         ⋅sin (\\theta)⎦  ⎢      -sin(2⋅\\the\n",
       "⎢                                                           ⎢0  0  ───────────\n",
       "⎢                                                           ⎣             2   \n",
       "⎢                                                                             \n",
       "⎣                                                                             \n",
       "\n",
       "                                          ⎤\n",
       "                                          ⎥\n",
       "    ⎤  ⎡                         1       ⎤⎥\n",
       "    ⎥  ⎢0        0               ─       ⎥⎥\n",
       "    ⎥  ⎢                         r       ⎥⎥\n",
       "    ⎥  ⎢                                 ⎥⎥\n",
       "    ⎥  ⎢                   sin(2⋅\\theta) ⎥⎥\n",
       "    ⎥  ⎢0        0         ──────────────⎥⎥\n",
       "    ⎥  ⎢                        2        ⎥⎥\n",
       "    ⎥  ⎢                   2⋅sin (\\theta)⎥⎥\n",
       "ta) ⎥  ⎢                                 ⎥⎥\n",
       "────⎥  ⎢1  sin(2⋅\\theta)                 ⎥⎥\n",
       "    ⎦  ⎢─  ──────────────        0       ⎥⎥\n",
       "       ⎢r       2                        ⎥⎥\n",
       "       ⎣   2⋅sin (\\theta)                ⎦⎦"
      ]
     },
     "execution_count": 27,
     "metadata": {},
     "output_type": "execute_result"
    }
   ],
   "source": [
    "Ga(-All, All, All)"
   ]
  },
  {
   "cell_type": "markdown",
   "metadata": {},
   "source": [
    "### The _Riemann_ Tensor"
   ]
  },
  {
   "cell_type": "markdown",
   "metadata": {},
   "source": [
    "$$ R_{\\mu \\nu \\rho \\sigma} = \\frac{\\partial \\Gamma_{\\mu \\nu \\sigma}}{\\partial x^{\\rho}} - \\frac{\\partial \\Gamma_{\\mu \\nu \\rho}}{\\partial x^{\\sigma}} + \\Gamma^{\\alpha}_{\\ \\nu \\sigma}\\Gamma_{\\mu \\rho \\alpha} - \\Gamma^{\\alpha}_{\\ \\nu \\rho}\\Gamma_{\\mu \\sigma \\alpha} - \\frac{\\partial g_{\\mu \\alpha}}{\\partial x^{\\rho}}\\Gamma^{\\alpha}_{\\ \\nu \\sigma} + \\frac{\\partial g_{\\mu \\alpha}}{\\partial x^{\\sigma}}\\Gamma^{\\alpha}_{\\ \\nu \\rho} $$"
   ]
  },
  {
   "cell_type": "code",
   "execution_count": 28,
   "metadata": {
    "collapsed": false
   },
   "outputs": [],
   "source": [
    "Rm = Riemann('Rm', g)"
   ]
  },
  {
   "cell_type": "markdown",
   "metadata": {},
   "source": [
    "Nonzero components of the _Riemann_ tensor (up to symmetries) are"
   ]
  },
  {
   "cell_type": "code",
   "execution_count": 29,
   "metadata": {
    "collapsed": false
   },
   "outputs": [
    {
     "data": {
      "text/latex": [
       "$$R_{1212} = \\frac{r}{2} \\frac{d}{d r} \\beta{\\left (r \\right )}$$"
      ],
      "text/plain": [
       "<IPython.core.display.Math object>"
      ]
     },
     "metadata": {},
     "output_type": "display_data"
    },
    {
     "data": {
      "text/latex": [
       "$$R_{1313} = \\frac{r}{2} \\sin^{2}{\\left (\\theta \\right )} \\frac{d}{d r} \\beta{\\left (r \\right )}$$"
      ],
      "text/plain": [
       "<IPython.core.display.Math object>"
      ]
     },
     "metadata": {},
     "output_type": "display_data"
    },
    {
     "data": {
      "text/latex": [
       "$$R_{2323} = r^{2} \\left(e^{\\beta{\\left (r \\right )}} - 1\\right) e^{- \\beta{\\left (r \\right )}} \\sin^{2}{\\left (\\theta \\right )}$$"
      ],
      "text/plain": [
       "<IPython.core.display.Math object>"
      ]
     },
     "metadata": {},
     "output_type": "display_data"
    }
   ],
   "source": [
    "from IPython.core.display import display, Math\n",
    "for i, j, k, l in list(variations(range(1, n+1), 4, True)):\n",
    "    if Rm(i, j, k, l) != 0 and k<l and i<j:\n",
    "        display(Math('R_{'+str(i)+str(j)+str(k)+str(l)+'} = '+latex(Rm(i, j, k, l))))"
   ]
  },
  {
   "cell_type": "markdown",
   "metadata": {},
   "source": [
    "You can also display the matrix representation of the tensor"
   ]
  },
  {
   "cell_type": "code",
   "execution_count": 30,
   "metadata": {
    "collapsed": false
   },
   "outputs": [
    {
     "data": {
      "image/png": "[encoded data removed]",
      "text/latex": [
       "$$\\left[\\begin{matrix}\\left[\\begin{matrix}0 & 0 & 0\\\\0 & 0 & 0\\\\0 & 0 & 0\\end{matrix}\\right] & \\left[\\begin{matrix}0 & \\frac{r}{2} \\frac{d}{d r} \\beta{\\left (r \\right )} & 0\\\\- \\frac{r}{2} \\frac{d}{d r} \\beta{\\left (r \\right )} & 0 & 0\\\\0 & 0 & 0\\end{matrix}\\right] & \\left[\\begin{matrix}0 & 0 & \\frac{r}{2} \\sin^{2}{\\left (\\theta \\right )} \\frac{d}{d r} \\beta{\\left (r \\right )}\\\\0 & 0 & 0\\\\- \\frac{r}{2} \\sin^{2}{\\left (\\theta \\right )} \\frac{d}{d r} \\beta{\\left (r \\right )} & 0 & 0\\end{matrix}\\right]\\\\\\left[\\begin{matrix}0 & - \\frac{r}{2} \\frac{d}{d r} \\beta{\\left (r \\right )} & 0\\\\\\frac{r}{2} \\frac{d}{d r} \\beta{\\left (r \\right )} & 0 & 0\\\\0 & 0 & 0\\end{matrix}\\right] & \\left[\\begin{matrix}0 & 0 & 0\\\\0 & 0 & 0\\\\0 & 0 & 0\\end{matrix}\\right] & \\left[\\begin{matrix}0 & 0 & 0\\\\0 & 0 & r^{2} \\left(e^{\\beta{\\left (r \\right )}} - 1\\right) e^{- \\beta{\\left (r \\right )}} \\sin^{2}{\\left (\\theta \\right )}\\\\0 & - r^{2} \\left(e^{\\beta{\\left (r \\right )}} - 1\\right) e^{- \\beta{\\left (r \\right )}} \\sin^{2}{\\left (\\theta \\right )} & 0\\end{matrix}\\right]\\\\\\left[\\begin{matrix}0 & 0 & - \\frac{r}{2} \\sin^{2}{\\left (\\theta \\right )} \\frac{d}{d r} \\beta{\\left (r \\right )}\\\\0 & 0 & 0\\\\\\frac{r}{2} \\sin^{2}{\\left (\\theta \\right )} \\frac{d}{d r} \\beta{\\left (r \\right )} & 0 & 0\\end{matrix}\\right] & \\left[\\begin{matrix}0 & 0 & 0\\\\0 & 0 & - r^{2} \\left(e^{\\beta{\\left (r \\right )}} - 1\\right) e^{- \\beta{\\left (r \\right )}} \\sin^{2}{\\left (\\theta \\right )}\\\\0 & r^{2} \\left(e^{\\beta{\\left (r \\right )}} - 1\\right) e^{- \\beta{\\left (r \\right )}} \\sin^{2}{\\left (\\theta \\right )} & 0\\end{matrix}\\right] & \\left[\\begin{matrix}0 & 0 & 0\\\\0 & 0 & 0\\\\0 & 0 & 0\\end{matrix}\\right]\\end{matrix}\\right]$$"
      ],
      "text/plain": [
       "⎡                                                                             \n",
       "⎢                                                                             \n",
       "⎢                                                                             \n",
       "⎢                           ⎡0  0  0⎤                                         \n",
       "⎢                           ⎢       ⎥                                         \n",
       "⎢                           ⎢0  0  0⎥                                         \n",
       "⎢                           ⎢       ⎥                                         \n",
       "⎢                           ⎣0  0  0⎦                                         \n",
       "⎢                                                                             \n",
       "⎢                                                                             \n",
       "⎢                                                                             \n",
       "⎢                                                                             \n",
       "⎢                                                                             \n",
       "⎢                                                                             \n",
       "⎢             ⎡                   d               ⎤                           \n",
       "⎢             ⎢                -r⋅──(\\beta(r))    ⎥                           \n",
       "⎢             ⎢                   dr              ⎥                           \n",
       "⎢             ⎢      0         ────────────────  0⎥                           \n",
       "⎢             ⎢                       2           ⎥                           \n",
       "⎢             ⎢                                   ⎥                           \n",
       "⎢             ⎢  d                                ⎥                           \n",
       "⎢             ⎢r⋅──(\\beta(r))                     ⎥                           \n",
       "⎢             ⎢  dr                               ⎥                           \n",
       "⎢             ⎢──────────────         0          0⎥                           \n",
       "⎢             ⎢      2                            ⎥                           \n",
       "⎢             ⎢                                   ⎥                           \n",
       "⎢             ⎣      0                0          0⎦                           \n",
       "⎢                                                                             \n",
       "⎢⎡                                      2         d            ⎤              \n",
       "⎢⎢                                -r⋅sin (\\theta)⋅──(\\beta(r)) ⎥              \n",
       "⎢⎢                                                dr           ⎥              \n",
       "⎢⎢             0               0  ─────────────────────────────⎥  ⎡0          \n",
       "⎢⎢                                              2              ⎥  ⎢           \n",
       "⎢⎢                                                             ⎥  ⎢           \n",
       "⎢⎢             0               0                0              ⎥  ⎢0          \n",
       "⎢⎢                                                             ⎥  ⎢           \n",
       "⎢⎢     2         d                                             ⎥  ⎢    2 ⎛ \\be\n",
       "⎢⎢r⋅sin (\\theta)⋅──(\\beta(r))                                  ⎥  ⎣0  r ⋅⎝ℯ   \n",
       "⎢⎢               dr                                            ⎥              \n",
       "⎢⎢───────────────────────────  0                0              ⎥              \n",
       "⎣⎣             2                                               ⎦              \n",
       "\n",
       "               ⎡                    d              ⎤                          \n",
       "               ⎢                  r⋅──(\\beta(r))   ⎥                          \n",
       "               ⎢                    dr             ⎥                          \n",
       "               ⎢       0          ──────────────  0⎥                          \n",
       "               ⎢                        2          ⎥                          \n",
       "               ⎢                                   ⎥                          \n",
       "               ⎢   d                               ⎥                          \n",
       "               ⎢-r⋅──(\\beta(r))                    ⎥                          \n",
       "               ⎢   dr                              ⎥                          \n",
       "               ⎢────────────────        0         0⎥                          \n",
       "               ⎢       2                           ⎥                          \n",
       "               ⎢                                   ⎥                          \n",
       "               ⎣       0                0         0⎦                          \n",
       "                                                                              \n",
       "                                                                              \n",
       "                                                                              \n",
       "                                                                              \n",
       "                             ⎡0  0  0⎤                                        \n",
       "                             ⎢       ⎥                                        \n",
       "                             ⎢0  0  0⎥                                        \n",
       "                             ⎢       ⎥                                        \n",
       "                             ⎣0  0  0⎦                                        \n",
       "                                                                              \n",
       "                                                                              \n",
       "                                                                              \n",
       "                                                                              \n",
       "                                                                              \n",
       "                                                                              \n",
       "                                                                              \n",
       "                                                                              \n",
       "                                                                              \n",
       "            0                                            0                    \n",
       "                                                                              \n",
       "                                      2 ⎛ \\beta(r)    ⎞  -\\beta(r)    2       \n",
       "            0                       -r ⋅⎝ℯ         - 1⎠⋅ℯ         ⋅sin (\\theta\n",
       "                                                                              \n",
       "ta(r)    ⎞  -\\beta(r)    2                                                    \n",
       "      - 1⎠⋅ℯ         ⋅sin (\\theta)                       0                    \n",
       "                                                                              \n",
       "                                                                              \n",
       "                                                                              \n",
       "\n",
       "                  ⎡                                       2         d         \n",
       "                  ⎢                                  r⋅sin (\\theta)⋅──(\\beta(r\n",
       "                  ⎢                                                 dr        \n",
       "                  ⎢              0                0  ─────────────────────────\n",
       "                  ⎢                                               2           \n",
       "                  ⎢                                                           \n",
       "                  ⎢              0                0               0           \n",
       "                  ⎢                                                           \n",
       "                  ⎢      2         d                                          \n",
       "                  ⎢-r⋅sin (\\theta)⋅──(\\beta(r))                               \n",
       "                  ⎢                dr                                         \n",
       "                  ⎢─────────────────────────────  0               0           \n",
       "                  ⎣              2                                            \n",
       "                                                                              \n",
       "                                                                              \n",
       "                                                                              \n",
       "                                                                              \n",
       "    ⎡0                       0                                           0    \n",
       "    ⎢                                                                         \n",
       "    ⎢                                                 2 ⎛ \\beta(r)    ⎞  -\\bet\n",
       "    ⎢0                       0                       r ⋅⎝ℯ         - 1⎠⋅ℯ     \n",
       "    ⎢                                                                         \n",
       "    ⎢     2 ⎛ \\beta(r)    ⎞  -\\beta(r)    2                                   \n",
       "    ⎣0  -r ⋅⎝ℯ         - 1⎠⋅ℯ         ⋅sin (\\theta)                      0    \n",
       "                                                                              \n",
       "                                                                              \n",
       "                                                                              \n",
       "                                                                              \n",
       "                                                                              \n",
       "                                                                              \n",
       "                                                                              \n",
       " ⎤                                           ⎡0  0  0⎤                        \n",
       " ⎥                                           ⎢       ⎥                        \n",
       " ⎥                                           ⎢0  0  0⎥                        \n",
       ")⎥                                           ⎢       ⎥                        \n",
       " ⎥                                           ⎣0  0  0⎦                        \n",
       " ⎥                                                                            \n",
       " ⎦                                                                            \n",
       "                                                                              \n",
       "                                                                              \n",
       "                                                                              \n",
       "\n",
       "  ⎤               ⎤\n",
       "))⎥               ⎥\n",
       "  ⎥               ⎥\n",
       "──⎥               ⎥\n",
       "  ⎥               ⎥\n",
       "  ⎥               ⎥\n",
       "  ⎥               ⎥\n",
       "  ⎥               ⎥\n",
       "  ⎥               ⎥\n",
       "  ⎥               ⎥\n",
       "  ⎥               ⎥\n",
       "  ⎥               ⎥\n",
       "  ⎦               ⎥\n",
       "                  ⎥\n",
       "                  ⎥\n",
       "                  ⎥\n",
       "                  ⎥\n",
       "                 ⎤⎥\n",
       "                 ⎥⎥\n",
       "a(r)    2        ⎥⎥\n",
       "    ⋅sin (\\theta)⎥⎥\n",
       "                 ⎥⎥\n",
       "                 ⎥⎥\n",
       "                 ⎦⎥\n",
       "                  ⎥\n",
       "                  ⎥\n",
       "                  ⎥\n",
       "                  ⎥\n",
       "                  ⎥\n",
       "                  ⎥\n",
       "                  ⎥\n",
       "                  ⎥\n",
       "                  ⎥\n",
       "                  ⎥\n",
       "                  ⎥\n",
       "                  ⎥\n",
       "                  ⎥\n",
       "                  ⎥\n",
       "                  ⎥\n",
       "                  ⎥\n",
       "                  ⎦"
      ]
     },
     "execution_count": 30,
     "metadata": {},
     "output_type": "execute_result"
    }
   ],
   "source": [
    "Rm(All, All, All, All)"
   ]
  },
  {
   "cell_type": "markdown",
   "metadata": {},
   "source": [
    "Contraction of the _Riemann_ tensor $R_{\\mu \\nu} = R^{\\rho}_{\\ \\mu \\rho \\nu} $"
   ]
  },
  {
   "cell_type": "code",
   "execution_count": 31,
   "metadata": {
    "collapsed": false
   },
   "outputs": [
    {
     "data": {
      "image/png": "[encoded data removed]",
      "text/latex": [
       "$$\\left[\\begin{matrix}\\frac{1}{r} \\frac{d}{d r} \\beta{\\left (r \\right )} & 0 & 0\\\\0 & \\left(\\frac{r}{2} \\frac{d}{d r} \\beta{\\left (r \\right )} + e^{\\beta{\\left (r \\right )}} - 1\\right) e^{- \\beta{\\left (r \\right )}} & 0\\\\0 & 0 & \\left(\\frac{r}{2} \\frac{d}{d r} \\beta{\\left (r \\right )} + e^{\\beta{\\left (r \\right )}} - 1\\right) e^{- \\beta{\\left (r \\right )}} \\sin^{2}{\\left (\\theta \\right )}\\end{matrix}\\right]$$"
      ],
      "text/plain": [
       "⎡d                                                                            \n",
       "⎢──(\\beta(r))                                                                 \n",
       "⎢dr                                                                           \n",
       "⎢────────────                       0                                         \n",
       "⎢     r                                                                       \n",
       "⎢                                                                             \n",
       "⎢              ⎛  d                           ⎞                               \n",
       "⎢              ⎜r⋅──(\\beta(r))                ⎟                               \n",
       "⎢              ⎜  dr              \\beta(r)    ⎟  -\\beta(r)                    \n",
       "⎢     0        ⎜────────────── + ℯ         - 1⎟⋅ℯ                             \n",
       "⎢              ⎝      2                       ⎠                               \n",
       "⎢                                                                             \n",
       "⎢                                                           ⎛  d              \n",
       "⎢                                                           ⎜r⋅──(\\beta(r))   \n",
       "⎢                                                           ⎜  dr             \n",
       "⎢     0                             0                       ⎜────────────── + \n",
       "⎣                                                           ⎝      2          \n",
       "\n",
       "                                      ⎤\n",
       "                                      ⎥\n",
       "                                      ⎥\n",
       "         0                            ⎥\n",
       "                                      ⎥\n",
       "                                      ⎥\n",
       "                                      ⎥\n",
       "                                      ⎥\n",
       "                                      ⎥\n",
       "         0                            ⎥\n",
       "                                      ⎥\n",
       "                                      ⎥\n",
       "             ⎞                        ⎥\n",
       "             ⎟                        ⎥\n",
       " \\beta(r)    ⎟  -\\beta(r)    2        ⎥\n",
       "ℯ         - 1⎟⋅ℯ         ⋅sin (\\theta)⎥\n",
       "             ⎠                        ⎦"
      ]
     },
     "execution_count": 31,
     "metadata": {},
     "output_type": "execute_result"
    }
   ],
   "source": [
    "ricci = sum([Rm(i, All, k, All)*g(-i, -k) for i, k in list(variations(range(1, n+1), 2, True))], zeros(n))\n",
    "ricci.simplify()\n",
    "ricci"
   ]
  },
  {
   "cell_type": "markdown",
   "metadata": {},
   "source": [
    "### The _Ricci_ Tensor"
   ]
  },
  {
   "cell_type": "markdown",
   "metadata": {},
   "source": [
    "$$ R_{\\mu \\nu} = \\frac{\\partial \\Gamma^{\\sigma}_{\\ \\mu \\nu}}{\\partial x^{\\sigma}} - \\frac{\\partial \\Gamma^{\\sigma}_{\\ \\mu \\sigma}}{\\partial x^{\\nu}} + \\Gamma^{\\sigma}_{\\ \\mu \\nu}\\Gamma^{\\rho}_{\\ \\sigma \\rho} - \\Gamma^{\\rho}_{\\ \\mu \\sigma}\\Gamma^{\\sigma}_{\\ \\nu \\rho} $$"
   ]
  },
  {
   "cell_type": "code",
   "execution_count": 32,
   "metadata": {
    "collapsed": false
   },
   "outputs": [
    {
     "data": {
      "image/png": "[encoded data removed]",
      "text/latex": [
       "$$\\left[\\begin{matrix}\\frac{1}{r} \\frac{d}{d r} \\beta{\\left (r \\right )} & 0 & 0\\\\0 & \\left(\\frac{r}{2} \\frac{d}{d r} \\beta{\\left (r \\right )} + e^{\\beta{\\left (r \\right )}} - 1\\right) e^{- \\beta{\\left (r \\right )}} & 0\\\\0 & 0 & \\left(\\frac{r}{2} \\frac{d}{d r} \\beta{\\left (r \\right )} + e^{\\beta{\\left (r \\right )}} - 1\\right) e^{- \\beta{\\left (r \\right )}} \\sin^{2}{\\left (\\theta \\right )}\\end{matrix}\\right]$$"
      ],
      "text/plain": [
       "⎡d                                                                            \n",
       "⎢──(\\beta(r))                                                                 \n",
       "⎢dr                                                                           \n",
       "⎢────────────                       0                                         \n",
       "⎢     r                                                                       \n",
       "⎢                                                                             \n",
       "⎢              ⎛  d                           ⎞                               \n",
       "⎢              ⎜r⋅──(\\beta(r))                ⎟                               \n",
       "⎢              ⎜  dr              \\beta(r)    ⎟  -\\beta(r)                    \n",
       "⎢     0        ⎜────────────── + ℯ         - 1⎟⋅ℯ                             \n",
       "⎢              ⎝      2                       ⎠                               \n",
       "⎢                                                                             \n",
       "⎢                                                           ⎛  d              \n",
       "⎢                                                           ⎜r⋅──(\\beta(r))   \n",
       "⎢                                                           ⎜  dr             \n",
       "⎢     0                             0                       ⎜────────────── + \n",
       "⎣                                                           ⎝      2          \n",
       "\n",
       "                                      ⎤\n",
       "                                      ⎥\n",
       "                                      ⎥\n",
       "         0                            ⎥\n",
       "                                      ⎥\n",
       "                                      ⎥\n",
       "                                      ⎥\n",
       "                                      ⎥\n",
       "                                      ⎥\n",
       "         0                            ⎥\n",
       "                                      ⎥\n",
       "                                      ⎥\n",
       "             ⎞                        ⎥\n",
       "             ⎟                        ⎥\n",
       " \\beta(r)    ⎟  -\\beta(r)    2        ⎥\n",
       "ℯ         - 1⎟⋅ℯ         ⋅sin (\\theta)⎥\n",
       "             ⎠                        ⎦"
      ]
     },
     "execution_count": 32,
     "metadata": {},
     "output_type": "execute_result"
    }
   ],
   "source": [
    "Ri = Ricci('Ri', g)\n",
    "Ri(All, All)"
   ]
  },
  {
   "cell_type": "markdown",
   "metadata": {},
   "source": [
    "Contraction of the _Ricci_ tensor $R = R_{\\mu}^{\\ \\mu} = g^{\\mu \\nu}R_{\\mu \\nu}$ can be computed with the attribute .scalar()"
   ]
  },
  {
   "cell_type": "code",
   "execution_count": 33,
   "metadata": {
    "collapsed": false
   },
   "outputs": [
    {
     "data": {
      "image/png": "[encoded data removed]",
      "text/latex": [
       "$$\\frac{2}{r^{2}} \\left(r \\frac{d}{d r} \\beta{\\left (r \\right )} + e^{\\beta{\\left (r \\right )}} - 1\\right) e^{- \\beta{\\left (r \\right )}}$$"
      ],
      "text/plain": [
       "  ⎛  d               \\beta(r)    ⎞  -\\beta(r)\n",
       "2⋅⎜r⋅──(\\beta(r)) + ℯ         - 1⎟⋅ℯ         \n",
       "  ⎝  dr                          ⎠           \n",
       "─────────────────────────────────────────────\n",
       "                       2                     \n",
       "                      r                      "
      ]
     },
     "execution_count": 33,
     "metadata": {},
     "output_type": "execute_result"
    }
   ],
   "source": [
    "Ri.scalar()"
   ]
  },
  {
   "cell_type": "markdown",
   "metadata": {},
   "source": [
    "### Calculation for metric:\n",
    "$$ ds^{2}=-dt^{2}+a^{2}(t)\\left[\\frac{1}{1-kr^{2}}dr^{2}+r^{2}d\\theta^{2}+r^{2}\\sin^{2}(\\theta)d\\phi^{2}\\right].$$"
   ]
  },
  {
   "cell_type": "code",
   "execution_count": 3,
   "metadata": {
    "collapsed": false
   },
   "outputs": [],
   "source": [
    "n=4 # Dimension of the Manifold\n",
    "a = Function(\"a\")\n",
    "t, r, theta, phi, k = symbols('t, r, \\\\theta, \\\\varphi, k') # define symbolic variables\n",
    "x = Coordinates('\\chi', [t, r, theta, phi]) # create a four-vector of coordinates object instantiating the Coordinates class\n",
    "Metric = diag( -1,a(t)**2/(1-k*r**2) , a(t)**2 * r**2, a(t)**2 * r**2*sin(theta)**2) # define a matrix of a metric tensor components  \n",
    "g = MetricTensor('g', x, Metric) # create a metric tensor object instantiating the MetricTensor class"
   ]
  },
  {
   "cell_type": "code",
   "execution_count": 4,
   "metadata": {
    "collapsed": false
   },
   "outputs": [
    {
     "data": {
      "text/latex": [
       "$$x^{1} = t$$"
      ],
      "text/plain": [
       "<IPython.core.display.Math object>"
      ]
     },
     "metadata": {},
     "output_type": "display_data"
    },
    {
     "data": {
      "text/latex": [
       "$$x^{2} = r$$"
      ],
      "text/plain": [
       "<IPython.core.display.Math object>"
      ]
     },
     "metadata": {},
     "output_type": "display_data"
    },
    {
     "data": {
      "text/latex": [
       "$$x^{3} = \\theta$$"
      ],
      "text/plain": [
       "<IPython.core.display.Math object>"
      ]
     },
     "metadata": {},
     "output_type": "display_data"
    },
    {
     "data": {
      "text/latex": [
       "$$x^{4} = \\varphi$$"
      ],
      "text/plain": [
       "<IPython.core.display.Math object>"
      ]
     },
     "metadata": {},
     "output_type": "display_data"
    }
   ],
   "source": [
    "from IPython.core.display import display, Math\n",
    "\n",
    "for i in range(1,n+1):\n",
    "    display(Math('x^{'+str(i)+'} = '+latex(x(-i))))\n"
   ]
  },
  {
   "cell_type": "code",
   "execution_count": 5,
   "metadata": {
    "collapsed": false
   },
   "outputs": [
    {
     "data": {
      "image/png": "[encoded data removed]",
      "text/latex": [
       "$$\\left[\\begin{matrix}-1 & 0 & 0 & 0\\\\0 & \\frac{a^{2}{\\left (t \\right )}}{- k r^{2} + 1} & 0 & 0\\\\0 & 0 & r^{2} a^{2}{\\left (t \\right )} & 0\\\\0 & 0 & 0 & r^{2} a^{2}{\\left (t \\right )} \\sin^{2}{\\left (\\theta \\right )}\\end{matrix}\\right]$$"
      ],
      "text/plain": [
       "⎡-1      0          0                0          ⎤\n",
       "⎢                                               ⎥\n",
       "⎢       2                                       ⎥\n",
       "⎢      a (t)                                    ⎥\n",
       "⎢0   ──────────     0                0          ⎥\n",
       "⎢         2                                     ⎥\n",
       "⎢    - k⋅r  + 1                                 ⎥\n",
       "⎢                                               ⎥\n",
       "⎢                 2  2                          ⎥\n",
       "⎢0       0       r ⋅a (t)            0          ⎥\n",
       "⎢                                               ⎥\n",
       "⎢                           2  2       2        ⎥\n",
       "⎣0       0          0      r ⋅a (t)⋅sin (\\theta)⎦"
      ]
     },
     "execution_count": 5,
     "metadata": {},
     "output_type": "execute_result"
    }
   ],
   "source": [
    "g(All, All)"
   ]
  },
  {
   "cell_type": "code",
   "execution_count": 6,
   "metadata": {
    "collapsed": false
   },
   "outputs": [
    {
     "data": {
      "image/png": "[encoded data removed]",
      "text/latex": [
       "$$0$$"
      ],
      "text/plain": [
       "0"
      ]
     },
     "execution_count": 6,
     "metadata": {},
     "output_type": "execute_result"
    }
   ],
   "source": [
    "Ga = Christoffel('Ga', g)\n",
    "Ga(1, 2, 1)"
   ]
  },
  {
   "cell_type": "code",
   "execution_count": 7,
   "metadata": {
    "collapsed": false
   },
   "outputs": [
    {
     "data": {
      "image/png": "[encoded data removed]",
      "text/latex": [
       "$$\\left \\{ \\left ( 1, \\quad 1, \\quad 2\\right ) : 0, \\quad \\left ( 1, \\quad 2, \\quad 1\\right ) : 0\\right \\}$$"
      ],
      "text/plain": [
       "{(1, 1, 2): 0, (1, 2, 1): 0}"
      ]
     },
     "execution_count": 7,
     "metadata": {},
     "output_type": "execute_result"
    }
   ],
   "source": [
    "Ga.components"
   ]
  },
  {
   "cell_type": "code",
   "execution_count": 8,
   "metadata": {
    "collapsed": false
   },
   "outputs": [
    {
     "data": {
      "image/png": "[encoded data removed]",
      "text/latex": [
       "$$\\left[\\begin{matrix}\\left[\\begin{matrix}0 & 0 & 0 & 0\\\\0 & - \\frac{\\frac{d}{d t} a{\\left (t \\right )}}{k r^{2} - 1} a{\\left (t \\right )} & 0 & 0\\\\0 & 0 & r^{2} a{\\left (t \\right )} \\frac{d}{d t} a{\\left (t \\right )} & 0\\\\0 & 0 & 0 & r^{2} a{\\left (t \\right )} \\sin^{2}{\\left (\\theta \\right )} \\frac{d}{d t} a{\\left (t \\right )}\\end{matrix}\\right] & \\left[\\begin{matrix}0 & \\frac{\\frac{d}{d t} a{\\left (t \\right )}}{a{\\left (t \\right )}} & 0 & 0\\\\\\frac{\\frac{d}{d t} a{\\left (t \\right )}}{a{\\left (t \\right )}} & - \\frac{k r}{k r^{2} - 1} & 0 & 0\\\\0 & 0 & r \\left(k r^{2} - 1\\right) & 0\\\\0 & 0 & 0 & r \\left(k r^{2} - 1\\right) \\sin^{2}{\\left (\\theta \\right )}\\end{matrix}\\right] & \\left[\\begin{matrix}0 & 0 & \\frac{\\frac{d}{d t} a{\\left (t \\right )}}{a{\\left (t \\right )}} & 0\\\\0 & 0 & \\frac{1}{r} & 0\\\\\\frac{\\frac{d}{d t} a{\\left (t \\right )}}{a{\\left (t \\right )}} & \\frac{1}{r} & 0 & 0\\\\0 & 0 & 0 & - \\frac{1}{2} \\sin{\\left (2 \\theta \\right )}\\end{matrix}\\right] & \\left[\\begin{matrix}0 & 0 & 0 & \\frac{\\frac{d}{d t} a{\\left (t \\right )}}{a{\\left (t \\right )}}\\\\0 & 0 & 0 & \\frac{1}{r}\\\\0 & 0 & 0 & \\frac{\\sin{\\left (2 \\theta \\right )}}{2 \\sin^{2}{\\left (\\theta \\right )}}\\\\\\frac{\\frac{d}{d t} a{\\left (t \\right )}}{a{\\left (t \\right )}} & \\frac{1}{r} & \\frac{\\sin{\\left (2 \\theta \\right )}}{2 \\sin^{2}{\\left (\\theta \\right )}} & 0\\end{matrix}\\right]\\end{matrix}\\right]$$"
      ],
      "text/plain": [
       "⎡                                                                       ⎡     \n",
       "⎢                                                                       ⎢     \n",
       "⎢                                                                       ⎢     \n",
       "⎢⎡0         0                0                        0              ⎤  ⎢   0 \n",
       "⎢⎢                                                                   ⎥  ⎢     \n",
       "⎢⎢         d                                                         ⎥  ⎢     \n",
       "⎢⎢   -a(t)⋅──(a(t))                                                  ⎥  ⎢d    \n",
       "⎢⎢         dt                                                        ⎥  ⎢──(a(\n",
       "⎢⎢0  ───────────────         0                        0              ⎥  ⎢dt   \n",
       "⎢⎢          2                                                        ⎥  ⎢─────\n",
       "⎢⎢       k⋅r  - 1                                                    ⎥  ⎢  a(t\n",
       "⎢⎢                                                                   ⎥  ⎢     \n",
       "⎢⎢                     2      d                                      ⎥  ⎢     \n",
       "⎢⎢0         0         r ⋅a(t)⋅──(a(t))                0              ⎥  ⎢     \n",
       "⎢⎢                            dt                                     ⎥  ⎢   0 \n",
       "⎢⎢                                                                   ⎥  ⎢     \n",
       "⎢⎢                                       2         2         d       ⎥  ⎢     \n",
       "⎢⎢0         0                0          r ⋅a(t)⋅sin (\\theta)⋅──(a(t))⎥  ⎣   0 \n",
       "⎢⎣                                                           dt      ⎦        \n",
       "⎢                                                                             \n",
       "⎣                                                                             \n",
       "\n",
       "     d                                                ⎤  ⎡             d      \n",
       "     ──(a(t))                                         ⎥  ⎢             ──(a(t)\n",
       "     dt                                               ⎥  ⎢             dt     \n",
       "     ────────       0                    0            ⎥  ⎢   0      0  ───────\n",
       "       a(t)                                           ⎥  ⎢               a(t) \n",
       "                                                      ⎥  ⎢                    \n",
       "                                                      ⎥  ⎢                1   \n",
       "t))                                                   ⎥  ⎢   0      0     ─   \n",
       "      -k⋅r                                            ⎥  ⎢                r   \n",
       "───  ────────       0                    0            ⎥  ⎢                    \n",
       ")       2                                             ⎥  ⎢d                   \n",
       "     k⋅r  - 1                                         ⎥  ⎢──(a(t))            \n",
       "                                                      ⎥  ⎢dt        1         \n",
       "                 ⎛   2    ⎞                           ⎥  ⎢────────  ─     0   \n",
       "        0      r⋅⎝k⋅r  - 1⎠              0            ⎥  ⎢  a(t)    r         \n",
       "                                                      ⎥  ⎢                    \n",
       "                               ⎛   2    ⎞    2        ⎥  ⎢                    \n",
       "        0           0        r⋅⎝k⋅r  - 1⎠⋅sin (\\theta)⎦  ⎢   0      0     0   \n",
       "                                                         ⎣                    \n",
       "                                                                              \n",
       "                                                                              \n",
       "\n",
       "                  ⎤  ⎡                                d          ⎤⎤\n",
       ")                 ⎥  ⎢                                ──(a(t))   ⎥⎥\n",
       "                  ⎥  ⎢                                dt         ⎥⎥\n",
       "─         0       ⎥  ⎢   0      0        0            ────────   ⎥⎥\n",
       "                  ⎥  ⎢                                  a(t)     ⎥⎥\n",
       "                  ⎥  ⎢                                           ⎥⎥\n",
       "                  ⎥  ⎢                                   1       ⎥⎥\n",
       "          0       ⎥  ⎢   0      0        0               ─       ⎥⎥\n",
       "                  ⎥  ⎢                                   r       ⎥⎥\n",
       "                  ⎥  ⎢                                           ⎥⎥\n",
       "                  ⎥  ⎢                             sin(2⋅\\theta) ⎥⎥\n",
       "                  ⎥  ⎢   0      0        0         ──────────────⎥⎥\n",
       "                  ⎥  ⎢                                  2        ⎥⎥\n",
       "          0       ⎥  ⎢                             2⋅sin (\\theta)⎥⎥\n",
       "                  ⎥  ⎢                                           ⎥⎥\n",
       "                  ⎥  ⎢d                                          ⎥⎥\n",
       "   -sin(2⋅\\theta) ⎥  ⎢──(a(t))                                   ⎥⎥\n",
       "   ───────────────⎥  ⎢dt        1  sin(2⋅\\theta)                 ⎥⎥\n",
       "          2       ⎦  ⎢────────  ─  ──────────────        0       ⎥⎥\n",
       "                     ⎢  a(t)    r       2                        ⎥⎥\n",
       "                     ⎣             2⋅sin (\\theta)                ⎦⎦"
      ]
     },
     "execution_count": 8,
     "metadata": {},
     "output_type": "execute_result"
    }
   ],
   "source": [
    "Ga(-All, All, All)"
   ]
  },
  {
   "cell_type": "code",
   "execution_count": 10,
   "metadata": {
    "collapsed": false
   },
   "outputs": [
    {
     "data": {
      "text/latex": [
       "$$\\Gamma^{0}_{11} = - \\frac{\\frac{d}{d t} a{\\left (t \\right )}}{k r^{2} - 1} a{\\left (t \\right )}$$"
      ],
      "text/plain": [
       "<IPython.core.display.Math object>"
      ]
     },
     "metadata": {},
     "output_type": "display_data"
    },
    {
     "data": {
      "text/latex": [
       "$$\\Gamma^{0}_{22} = r^{2} a{\\left (t \\right )} \\frac{d}{d t} a{\\left (t \\right )}$$"
      ],
      "text/plain": [
       "<IPython.core.display.Math object>"
      ]
     },
     "metadata": {},
     "output_type": "display_data"
    },
    {
     "data": {
      "text/latex": [
       "$$\\Gamma^{0}_{33} = r^{2} a{\\left (t \\right )} \\sin^{2}{\\left (\\theta \\right )} \\frac{d}{d t} a{\\left (t \\right )}$$"
      ],
      "text/plain": [
       "<IPython.core.display.Math object>"
      ]
     },
     "metadata": {},
     "output_type": "display_data"
    },
    {
     "data": {
      "text/latex": [
       "$$\\Gamma^{1}_{01} = \\frac{\\frac{d}{d t} a{\\left (t \\right )}}{a{\\left (t \\right )}}$$"
      ],
      "text/plain": [
       "<IPython.core.display.Math object>"
      ]
     },
     "metadata": {},
     "output_type": "display_data"
    },
    {
     "data": {
      "text/latex": [
       "$$\\Gamma^{1}_{10} = \\frac{\\frac{d}{d t} a{\\left (t \\right )}}{a{\\left (t \\right )}}$$"
      ],
      "text/plain": [
       "<IPython.core.display.Math object>"
      ]
     },
     "metadata": {},
     "output_type": "display_data"
    },
    {
     "data": {
      "text/latex": [
       "$$\\Gamma^{1}_{11} = - \\frac{k r}{k r^{2} - 1}$$"
      ],
      "text/plain": [
       "<IPython.core.display.Math object>"
      ]
     },
     "metadata": {},
     "output_type": "display_data"
    },
    {
     "data": {
      "text/latex": [
       "$$\\Gamma^{1}_{22} = r \\left(k r^{2} - 1\\right)$$"
      ],
      "text/plain": [
       "<IPython.core.display.Math object>"
      ]
     },
     "metadata": {},
     "output_type": "display_data"
    },
    {
     "data": {
      "text/latex": [
       "$$\\Gamma^{1}_{33} = r \\left(k r^{2} - 1\\right) \\sin^{2}{\\left (\\theta \\right )}$$"
      ],
      "text/plain": [
       "<IPython.core.display.Math object>"
      ]
     },
     "metadata": {},
     "output_type": "display_data"
    },
    {
     "data": {
      "text/latex": [
       "$$\\Gamma^{2}_{02} = \\frac{\\frac{d}{d t} a{\\left (t \\right )}}{a{\\left (t \\right )}}$$"
      ],
      "text/plain": [
       "<IPython.core.display.Math object>"
      ]
     },
     "metadata": {},
     "output_type": "display_data"
    },
    {
     "data": {
      "text/latex": [
       "$$\\Gamma^{2}_{12} = \\frac{1}{r}$$"
      ],
      "text/plain": [
       "<IPython.core.display.Math object>"
      ]
     },
     "metadata": {},
     "output_type": "display_data"
    },
    {
     "data": {
      "text/latex": [
       "$$\\Gamma^{2}_{20} = \\frac{\\frac{d}{d t} a{\\left (t \\right )}}{a{\\left (t \\right )}}$$"
      ],
      "text/plain": [
       "<IPython.core.display.Math object>"
      ]
     },
     "metadata": {},
     "output_type": "display_data"
    },
    {
     "data": {
      "text/latex": [
       "$$\\Gamma^{2}_{21} = \\frac{1}{r}$$"
      ],
      "text/plain": [
       "<IPython.core.display.Math object>"
      ]
     },
     "metadata": {},
     "output_type": "display_data"
    },
    {
     "data": {
      "text/latex": [
       "$$\\Gamma^{2}_{33} = - \\frac{1}{2} \\sin{\\left (2 \\theta \\right )}$$"
      ],
      "text/plain": [
       "<IPython.core.display.Math object>"
      ]
     },
     "metadata": {},
     "output_type": "display_data"
    },
    {
     "data": {
      "text/latex": [
       "$$\\Gamma^{3}_{03} = \\frac{\\frac{d}{d t} a{\\left (t \\right )}}{a{\\left (t \\right )}}$$"
      ],
      "text/plain": [
       "<IPython.core.display.Math object>"
      ]
     },
     "metadata": {},
     "output_type": "display_data"
    },
    {
     "data": {
      "text/latex": [
       "$$\\Gamma^{3}_{13} = \\frac{1}{r}$$"
      ],
      "text/plain": [
       "<IPython.core.display.Math object>"
      ]
     },
     "metadata": {},
     "output_type": "display_data"
    },
    {
     "data": {
      "text/latex": [
       "$$\\Gamma^{3}_{23} = \\frac{\\sin{\\left (2 \\theta \\right )}}{2 \\sin^{2}{\\left (\\theta \\right )}}$$"
      ],
      "text/plain": [
       "<IPython.core.display.Math object>"
      ]
     },
     "metadata": {},
     "output_type": "display_data"
    },
    {
     "data": {
      "text/latex": [
       "$$\\Gamma^{3}_{30} = \\frac{\\frac{d}{d t} a{\\left (t \\right )}}{a{\\left (t \\right )}}$$"
      ],
      "text/plain": [
       "<IPython.core.display.Math object>"
      ]
     },
     "metadata": {},
     "output_type": "display_data"
    },
    {
     "data": {
      "text/latex": [
       "$$\\Gamma^{3}_{31} = \\frac{1}{r}$$"
      ],
      "text/plain": [
       "<IPython.core.display.Math object>"
      ]
     },
     "metadata": {},
     "output_type": "display_data"
    },
    {
     "data": {
      "text/latex": [
       "$$\\Gamma^{3}_{32} = \\frac{\\sin{\\left (2 \\theta \\right )}}{2 \\sin^{2}{\\left (\\theta \\right )}}$$"
      ],
      "text/plain": [
       "<IPython.core.display.Math object>"
      ]
     },
     "metadata": {},
     "output_type": "display_data"
    }
   ],
   "source": [
    "from IPython.core.display import display, Math\n",
    "for i, j, k in list(variations(range(1, n+1), 3, True)):\n",
    "    if Ga(-i, j, k) != 0 :\n",
    "        display(Math('\\Gamma^{'+str(i-1)+'}_{'+str(j-1)+str(k-1)+'} = '+latex(Ga(-i, j, k))))"
   ]
  },
  {
   "cell_type": "code",
   "execution_count": null,
   "metadata": {
    "collapsed": true
   },
   "outputs": [],
   "source": []
  }
 ],
 "metadata": {
  "kernelspec": {
   "display_name": "Python 2",
   "language": "python",
   "name": "python2"
  },
  "language_info": {
   "codemirror_mode": {
    "name": "ipython",
    "version": 2
   },
   "file_extension": ".py",
   "mimetype": "text/x-python",
   "name": "python",
   "nbconvert_exporter": "python",
   "pygments_lexer": "ipython2",
   "version": "2.7.12"
  }
 },
 "nbformat": 4,
 "nbformat_minor": 0
}
