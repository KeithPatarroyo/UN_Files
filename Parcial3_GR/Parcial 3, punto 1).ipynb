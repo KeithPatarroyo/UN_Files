{
 "cells": [
  {
   "cell_type": "markdown",
   "metadata": {},
   "source": [
    "# Parcial 3, punto 1)"
   ]
  },
  {
   "cell_type": "markdown",
   "metadata": {},
   "source": [
    "## _Coordinates_ and _MetricTensor_"
   ]
  },
  {
   "cell_type": "markdown",
   "metadata": {},
   "source": [
    "Import the gravipy package and initialization of a pretty-printing mode in IPython environment"
   ]
  },
  {
   "cell_type": "code",
   "execution_count": 2,
   "metadata": {
    "collapsed": false
   },
   "outputs": [],
   "source": [
    "from gravipy import * # import SymPy and GraviPy package\n",
    "init_printing()\n"
   ]
  },
  {
   "cell_type": "markdown",
   "metadata": {},
   "source": [
    "Definition of coordinates and metric tensor."
   ]
  },
  {
   "cell_type": "code",
   "execution_count": 3,
   "metadata": {
    "collapsed": false
   },
   "outputs": [],
   "source": [
    "n=4 # Dimension of the Manifold\n",
    "a, r, theta, phi, M ,G,c,t= symbols('a, r, \\\\theta, \\\\varphi, M,G,c,t') # define symbolic variables\n",
    "x = Coordinates('\\chi', [t,r, theta, phi]) # create a four-vector of coordinates object instantiating the Coordinates class\n",
    "Metric = diag(-(1-(2*G*M)/(r*c**2))*c**2,(1-(2*G*M)/(r*c**2))**(-1), r**2,r**2*sin(theta)**2) # define a matrix of a metric tensor components  \n",
    "g = MetricTensor('g', x, Metric) # create a metric tensor object instantiating the MetricTensor class"
   ]
  },
  {
   "cell_type": "markdown",
   "metadata": {},
   "source": [
    "Each component of any tensor object, can be computed by calling covariant indices with positive integer values (1, 2, ..., dim) and contravariant indices with negative values (-dim, ..., -2, -1)."
   ]
  },
  {
   "cell_type": "code",
   "execution_count": 4,
   "metadata": {
    "collapsed": false
   },
   "outputs": [
    {
     "data": {
      "image/png": "[encoded data removed]",
      "text/latex": [
       "$$t$$"
      ],
      "text/plain": [
       "t"
      ]
     },
     "execution_count": 4,
     "metadata": {},
     "output_type": "execute_result"
    }
   ],
   "source": [
    "x(-1)"
   ]
  },
  {
   "cell_type": "code",
   "execution_count": 5,
   "metadata": {
    "collapsed": false,
    "scrolled": true
   },
   "outputs": [
    {
     "data": {
      "text/latex": [
       "$$x^{1} = t$$"
      ],
      "text/plain": [
       "<IPython.core.display.Math object>"
      ]
     },
     "metadata": {},
     "output_type": "display_data"
    },
    {
     "data": {
      "text/latex": [
       "$$x^{2} = r$$"
      ],
      "text/plain": [
       "<IPython.core.display.Math object>"
      ]
     },
     "metadata": {},
     "output_type": "display_data"
    },
    {
     "data": {
      "text/latex": [
       "$$x^{3} = \\theta$$"
      ],
      "text/plain": [
       "<IPython.core.display.Math object>"
      ]
     },
     "metadata": {},
     "output_type": "display_data"
    },
    {
     "data": {
      "text/latex": [
       "$$x^{4} = \\varphi$$"
      ],
      "text/plain": [
       "<IPython.core.display.Math object>"
      ]
     },
     "metadata": {},
     "output_type": "display_data"
    }
   ],
   "source": [
    "from IPython.core.display import display, Math\n",
    "\n",
    "for i in range(1,n+1):\n",
    "    display(Math('x^{'+str(i)+'} = '+latex(x(-i))))\n"
   ]
  },
  {
   "cell_type": "code",
   "execution_count": 6,
   "metadata": {
    "collapsed": false
   },
   "outputs": [
    {
     "data": {
      "text/latex": [
       "$$x_{1} = c^{2} t \\left(\\frac{2 G M}{c^{2} r} - 1\\right)$$"
      ],
      "text/plain": [
       "<IPython.core.display.Math object>"
      ]
     },
     "metadata": {},
     "output_type": "display_data"
    },
    {
     "data": {
      "text/latex": [
       "$$x_{2} = \\frac{r}{- \\frac{2 G M}{c^{2} r} + 1}$$"
      ],
      "text/plain": [
       "<IPython.core.display.Math object>"
      ]
     },
     "metadata": {},
     "output_type": "display_data"
    },
    {
     "data": {
      "text/latex": [
       "$$x_{3} = \\theta r^{2}$$"
      ],
      "text/plain": [
       "<IPython.core.display.Math object>"
      ]
     },
     "metadata": {},
     "output_type": "display_data"
    },
    {
     "data": {
      "text/latex": [
       "$$x_{4} = \\varphi r^{2} \\sin^{2}{\\left (\\theta \\right )}$$"
      ],
      "text/plain": [
       "<IPython.core.display.Math object>"
      ]
     },
     "metadata": {},
     "output_type": "display_data"
    }
   ],
   "source": [
    "for i in range(1,n+1):\n",
    "    display(Math('x_{'+str(i)+'} = '+latex(x(i))))"
   ]
  },
  {
   "cell_type": "code",
   "execution_count": 7,
   "metadata": {
    "collapsed": false
   },
   "outputs": [
    {
     "data": {
      "image/png": "[encoded data removed]",
      "text/latex": [
       "$$0$$"
      ],
      "text/plain": [
       "0"
      ]
     },
     "execution_count": 7,
     "metadata": {},
     "output_type": "execute_result"
    }
   ],
   "source": [
    "g(-2, -1)"
   ]
  },
  {
   "cell_type": "code",
   "execution_count": 8,
   "metadata": {
    "collapsed": false
   },
   "outputs": [
    {
     "data": {
      "image/png": "[encoded data removed]",
      "text/latex": [
       "$$c^{2} \\left(\\frac{2 G M}{c^{2} r} - 1\\right)$$"
      ],
      "text/plain": [
       " 2 ⎛2⋅G⋅M    ⎞\n",
       "c ⋅⎜───── - 1⎟\n",
       "   ⎜  2      ⎟\n",
       "   ⎝ c ⋅r    ⎠"
      ]
     },
     "execution_count": 8,
     "metadata": {},
     "output_type": "execute_result"
    }
   ],
   "source": [
    "g(1,1)"
   ]
  },
  {
   "cell_type": "code",
   "execution_count": 9,
   "metadata": {
    "collapsed": false
   },
   "outputs": [
    {
     "data": {
      "image/png": "[encoded data removed]",
      "text/latex": [
       "$$c^{2} t \\left(\\frac{2 G M}{c^{2} r} - 1\\right)$$"
      ],
      "text/plain": [
       " 2   ⎛2⋅G⋅M    ⎞\n",
       "c ⋅t⋅⎜───── - 1⎟\n",
       "     ⎜  2      ⎟\n",
       "     ⎝ c ⋅r    ⎠"
      ]
     },
     "execution_count": 9,
     "metadata": {},
     "output_type": "execute_result"
    }
   ],
   "source": [
    "x(1)"
   ]
  },
  {
   "cell_type": "markdown",
   "metadata": {},
   "source": [
    "Visualization can be made in matrix representation:"
   ]
  },
  {
   "cell_type": "code",
   "execution_count": 10,
   "metadata": {
    "collapsed": false
   },
   "outputs": [
    {
     "data": {
      "image/png": "[encoded data removed]",
      "text/latex": [
       "$$\\left[\\begin{matrix}t & r & \\theta & \\varphi\\end{matrix}\\right]$$"
      ],
      "text/plain": [
       "[t  r  \\theta  \\varphi]"
      ]
     },
     "execution_count": 10,
     "metadata": {},
     "output_type": "execute_result"
    }
   ],
   "source": [
    "x(-All)"
   ]
  },
  {
   "cell_type": "code",
   "execution_count": 11,
   "metadata": {
    "collapsed": false
   },
   "outputs": [
    {
     "data": {
      "image/png": "[encoded data removed]",
      "text/latex": [
       "$$\\left[\\begin{matrix}c^{2} \\left(\\frac{2 G M}{c^{2} r} - 1\\right) & 0 & 0 & 0\\\\0 & \\frac{1}{- \\frac{2 G M}{c^{2} r} + 1} & 0 & 0\\\\0 & 0 & r^{2} & 0\\\\0 & 0 & 0 & r^{2} \\sin^{2}{\\left (\\theta \\right )}\\end{matrix}\\right]$$"
      ],
      "text/plain": [
       "⎡ 2 ⎛2⋅G⋅M    ⎞                                  ⎤\n",
       "⎢c ⋅⎜───── - 1⎟       0       0          0       ⎥\n",
       "⎢   ⎜  2      ⎟                                  ⎥\n",
       "⎢   ⎝ c ⋅r    ⎠                                  ⎥\n",
       "⎢                                                ⎥\n",
       "⎢                     1                          ⎥\n",
       "⎢      0         ───────────  0          0       ⎥\n",
       "⎢                  2⋅G⋅M                         ⎥\n",
       "⎢                - ───── + 1                     ⎥\n",
       "⎢                    2                           ⎥\n",
       "⎢                   c ⋅r                         ⎥\n",
       "⎢                                                ⎥\n",
       "⎢                              2                 ⎥\n",
       "⎢      0              0       r          0       ⎥\n",
       "⎢                                                ⎥\n",
       "⎢                                  2    2        ⎥\n",
       "⎣      0              0       0   r ⋅sin (\\theta)⎦"
      ]
     },
     "execution_count": 11,
     "metadata": {},
     "output_type": "execute_result"
    }
   ],
   "source": [
    "g(All, All)"
   ]
  },
  {
   "cell_type": "code",
   "execution_count": 12,
   "metadata": {
    "collapsed": false
   },
   "outputs": [
    {
     "data": {
      "image/png": "[encoded data removed]",
      "text/latex": [
       "$$\\left[\\begin{matrix}0 & 0 & 0 & r^{2} \\sin^{2}{\\left (\\theta \\right )}\\end{matrix}\\right]$$"
      ],
      "text/plain": [
       "⎡          2    2        ⎤\n",
       "⎣0  0  0  r ⋅sin (\\theta)⎦"
      ]
     },
     "execution_count": 12,
     "metadata": {},
     "output_type": "execute_result"
    }
   ],
   "source": [
    "g(All, n)"
   ]
  },
  {
   "cell_type": "markdown",
   "metadata": {},
   "source": [
    "## Predefined Tensors"
   ]
  },
  {
   "cell_type": "markdown",
   "metadata": {},
   "source": [
    "The GraviPy package contains a number of predetermined _Tensors_:"
   ]
  },
  {
   "cell_type": "code",
   "execution_count": 13,
   "metadata": {
    "collapsed": false
   },
   "outputs": [
    {
     "name": "stdout",
     "output_type": "stream",
     "text": [
      "['Christoffel', 'Ricci', 'Riemann', 'Einstein', 'Geodesic']\n"
     ]
    }
   ],
   "source": [
    "print([cls.__name__ for cls in vars()['Tensor'].__subclasses__()])"
   ]
  },
  {
   "cell_type": "markdown",
   "metadata": {},
   "source": [
    "### The _Christoffel_ symbols"
   ]
  },
  {
   "cell_type": "markdown",
   "metadata": {},
   "source": [
    "_Christoffel_ class that represents Christoffel symbols of the first and second kind. (Note that the Christoffel symbols are not tensors) "
   ]
  },
  {
   "cell_type": "markdown",
   "metadata": {},
   "source": [
    "$$ \\Gamma_{\\rho \\mu \\nu} = g_{\\rho \\sigma}\\Gamma^{\\sigma}_{\\ \\mu \\nu} = \\frac{1}{2}(g_{\\rho \\mu, \\nu} + g_{\\rho \\nu, \\mu} - g_{\\mu \\nu, \\rho})$$\n"
   ]
  },
  {
   "cell_type": "markdown",
   "metadata": {},
   "source": [
    "Let's create an instance of the _Christoffel_ class for the Schwarzschild metric g and compute some components of the object"
   ]
  },
  {
   "cell_type": "code",
   "execution_count": 14,
   "metadata": {
    "collapsed": false
   },
   "outputs": [
    {
     "data": {
      "image/png": "[encoded data removed]",
      "text/latex": [
       "$$- \\frac{G M}{r^{2}}$$"
      ],
      "text/plain": [
       "-G⋅M \n",
       "─────\n",
       "   2 \n",
       "  r  "
      ]
     },
     "execution_count": 14,
     "metadata": {},
     "output_type": "execute_result"
    }
   ],
   "source": [
    "Ga = Christoffel('Ga', g)\n",
    "Ga(1, 2, 1)"
   ]
  },
  {
   "cell_type": "markdown",
   "metadata": {},
   "source": [
    "Connections are Christoffel symbols of the second kind, and they are called as"
   ]
  },
  {
   "cell_type": "code",
   "execution_count": 15,
   "metadata": {
    "collapsed": false
   },
   "outputs": [
    {
     "data": {
      "image/png": "[encoded data removed]",
      "text/latex": [
       "$$0$$"
      ],
      "text/plain": [
       "0"
      ]
     },
     "execution_count": 15,
     "metadata": {},
     "output_type": "execute_result"
    }
   ],
   "source": [
    "Ga(-2,2,1)"
   ]
  },
  {
   "cell_type": "markdown",
   "metadata": {},
   "source": [
    "To visualize all the components we use the attribute .components"
   ]
  },
  {
   "cell_type": "code",
   "execution_count": 16,
   "metadata": {
    "collapsed": false
   },
   "outputs": [
    {
     "data": {
      "image/png": "[encoded data removed]",
      "text/latex": [
       "$$\\left \\{ \\left ( -2, \\quad 2, \\quad 1\\right ) : 0, \\quad \\left ( 1, \\quad 1, \\quad 2\\right ) : - \\frac{G M}{r^{2}}, \\quad \\left ( 1, \\quad 2, \\quad 1\\right ) : - \\frac{G M}{r^{2}}, \\quad \\left ( 2, \\quad 1, \\quad 2\\right ) : 0, \\quad \\left ( 2, \\quad 2, \\quad 1\\right ) : 0, \\quad \\left ( 3, \\quad 1, \\quad 2\\right ) : 0, \\quad \\left ( 3, \\quad 2, \\quad 1\\right ) : 0, \\quad \\left ( 4, \\quad 1, \\quad 2\\right ) : 0, \\quad \\left ( 4, \\quad 2, \\quad 1\\right ) : 0\\right \\}$$"
      ],
      "text/plain": [
       "⎧                          -G⋅M              -G⋅M                             \n",
       "⎪(-2, 2, 1): 0, (1, 1, 2): ─────, (1, 2, 1): ─────, (2, 1, 2): 0, (2, 2, 1): 0\n",
       "⎨                             2                 2                             \n",
       "⎪                            r                 r                              \n",
       "⎩                                                                             \n",
       "\n",
       "                                                        ⎫\n",
       ", (3, 1, 2): 0, (3, 2, 1): 0, (4, 1, 2): 0, (4, 2, 1): 0⎪\n",
       "                                                        ⎬\n",
       "                                                        ⎪\n",
       "                                                        ⎭"
      ]
     },
     "execution_count": 16,
     "metadata": {},
     "output_type": "execute_result"
    }
   ],
   "source": [
    "Ga.components"
   ]
  },
  {
   "cell_type": "markdown",
   "metadata": {},
   "source": [
    "The _Matrix_ representation of the Connections is the following"
   ]
  },
  {
   "cell_type": "code",
   "execution_count": 17,
   "metadata": {
    "collapsed": false
   },
   "outputs": [
    {
     "data": {
      "image/png": "[encoded data removed]",
      "text/latex": [
       "$$\\left[\\begin{matrix}\\left[\\begin{matrix}0 & - \\frac{G M}{r \\left(2 G M - c^{2} r\\right)} & 0 & 0\\\\- \\frac{G M}{r \\left(2 G M - c^{2} r\\right)} & 0 & 0 & 0\\\\0 & 0 & 0 & 0\\\\0 & 0 & 0 & 0\\end{matrix}\\right] & \\left[\\begin{matrix}\\frac{G M}{c^{2} r^{3}} \\left(- 2 G M + c^{2} r\\right) & 0 & 0 & 0\\\\0 & - \\frac{G M \\left(- 2 G M + c^{2} r\\right)}{r \\left(2 G M - c^{2} r\\right)^{2}} & 0 & 0\\\\0 & 0 & - \\frac{1}{c^{2}} \\left(- 2 G M + c^{2} r\\right) & 0\\\\0 & 0 & 0 & - \\frac{1}{c^{2}} \\left(- 2 G M + c^{2} r\\right) \\sin^{2}{\\left (\\theta \\right )}\\end{matrix}\\right] & \\left[\\begin{matrix}0 & 0 & 0 & 0\\\\0 & 0 & \\frac{1}{r} & 0\\\\0 & \\frac{1}{r} & 0 & 0\\\\0 & 0 & 0 & - \\frac{1}{2} \\sin{\\left (2 \\theta \\right )}\\end{matrix}\\right] & \\left[\\begin{matrix}0 & 0 & 0 & 0\\\\0 & 0 & 0 & \\frac{1}{r}\\\\0 & 0 & 0 & \\frac{\\sin{\\left (2 \\theta \\right )}}{2 \\sin^{2}{\\left (\\theta \\right )}}\\\\0 & \\frac{1}{r} & \\frac{\\sin{\\left (2 \\theta \\right )}}{2 \\sin^{2}{\\left (\\theta \\right )}} & 0\\end{matrix}\\right]\\end{matrix}\\right]$$"
      ],
      "text/plain": [
       "⎡                                            ⎡    ⎛          2  ⎞             \n",
       "⎢⎡                       -G⋅M             ⎤  ⎢G⋅M⋅⎝-2⋅G⋅M + c ⋅r⎠             \n",
       "⎢⎢       0          ────────────────  0  0⎥  ⎢───────────────────            0\n",
       "⎢⎢                    ⎛         2  ⎞      ⎥  ⎢        2  3                    \n",
       "⎢⎢                  r⋅⎝2⋅G⋅M - c ⋅r⎠      ⎥  ⎢       c ⋅r                     \n",
       "⎢⎢                                        ⎥  ⎢                                \n",
       "⎢⎢     -G⋅M                               ⎥  ⎢                          ⎛     \n",
       "⎢⎢────────────────         0          0  0⎥  ⎢                     -G⋅M⋅⎝-2⋅G⋅\n",
       "⎢⎢  ⎛         2  ⎞                        ⎥  ⎢         0           ───────────\n",
       "⎢⎢r⋅⎝2⋅G⋅M - c ⋅r⎠                        ⎥  ⎢                                \n",
       "⎢⎢                                        ⎥  ⎢                         ⎛      \n",
       "⎢⎢       0                 0          0  0⎥  ⎢                       r⋅⎝2⋅G⋅M \n",
       "⎢⎢                                        ⎥  ⎢                                \n",
       "⎢⎣       0                 0          0  0⎦  ⎢                                \n",
       "⎢                                            ⎢                                \n",
       "⎢                                            ⎢         0                     0\n",
       "⎢                                            ⎢                                \n",
       "⎢                                            ⎢                                \n",
       "⎢                                            ⎢                                \n",
       "⎢                                            ⎢                                \n",
       "⎢                                            ⎢                                \n",
       "⎢                                            ⎢         0                     0\n",
       "⎢                                            ⎢                                \n",
       "⎣                                            ⎣                                \n",
       "\n",
       "                                                             ⎤                \n",
       "                                                             ⎥                \n",
       "                    0                        0               ⎥  ⎡0  0  0      \n",
       "                                                             ⎥  ⎢             \n",
       "                                                             ⎥  ⎢      1      \n",
       "                                                             ⎥  ⎢0  0  ─      \n",
       "     2  ⎞                                                    ⎥  ⎢      r      \n",
       "M + c ⋅r⎠                                                    ⎥  ⎢             \n",
       "──────────          0                        0               ⎥  ⎢   1         \n",
       "       2                                                     ⎥  ⎢0  ─  0      \n",
       "   2  ⎞                                                      ⎥  ⎢   r         \n",
       "- c ⋅r⎠                                                      ⎥  ⎢             \n",
       "                                                             ⎥  ⎢         -sin\n",
       "             ⎛          2  ⎞                                 ⎥  ⎢0  0  0  ────\n",
       "            -⎝-2⋅G⋅M + c ⋅r⎠                                 ⎥  ⎣             \n",
       "            ─────────────────                0               ⎥                \n",
       "                     2                                       ⎥                \n",
       "                    c                                        ⎥                \n",
       "                                                             ⎥                \n",
       "                                ⎛          2  ⎞    2         ⎥                \n",
       "                               -⎝-2⋅G⋅M + c ⋅r⎠⋅sin (\\theta) ⎥                \n",
       "                    0          ──────────────────────────────⎥                \n",
       "                                              2              ⎥                \n",
       "                                             c               ⎦                \n",
       "\n",
       "                                                    ⎤\n",
       "                                                    ⎥\n",
       "   0       ⎤  ⎡0  0        0               0       ⎤⎥\n",
       "           ⎥  ⎢                                    ⎥⎥\n",
       "           ⎥  ⎢                            1       ⎥⎥\n",
       "   0       ⎥  ⎢0  0        0               ─       ⎥⎥\n",
       "           ⎥  ⎢                            r       ⎥⎥\n",
       "           ⎥  ⎢                                    ⎥⎥\n",
       "           ⎥  ⎢                      sin(2⋅\\theta) ⎥⎥\n",
       "   0       ⎥  ⎢0  0        0         ──────────────⎥⎥\n",
       "           ⎥  ⎢                           2        ⎥⎥\n",
       "           ⎥  ⎢                      2⋅sin (\\theta)⎥⎥\n",
       "(2⋅\\theta) ⎥  ⎢                                    ⎥⎥\n",
       "───────────⎥  ⎢   1  sin(2⋅\\theta)                 ⎥⎥\n",
       "   2       ⎦  ⎢0  ─  ──────────────        0       ⎥⎥\n",
       "              ⎢   r       2                        ⎥⎥\n",
       "              ⎣      2⋅sin (\\theta)                ⎦⎥\n",
       "                                                    ⎥\n",
       "                                                    ⎥\n",
       "                                                    ⎥\n",
       "                                                    ⎥\n",
       "                                                    ⎥\n",
       "                                                    ⎥\n",
       "                                                    ⎦"
      ]
     },
     "execution_count": 17,
     "metadata": {},
     "output_type": "execute_result"
    }
   ],
   "source": [
    "Ga(-All, All, All)"
   ]
  },
  {
   "cell_type": "markdown",
   "metadata": {},
   "source": [
    "### The _Riemann_ Tensor"
   ]
  },
  {
   "cell_type": "markdown",
   "metadata": {},
   "source": [
    "$$ R_{\\mu \\nu \\rho \\sigma} = \\frac{\\partial \\Gamma_{\\mu \\nu \\sigma}}{\\partial x^{\\rho}} - \\frac{\\partial \\Gamma_{\\mu \\nu \\rho}}{\\partial x^{\\sigma}} + \\Gamma^{\\alpha}_{\\ \\nu \\sigma}\\Gamma_{\\mu \\rho \\alpha} - \\Gamma^{\\alpha}_{\\ \\nu \\rho}\\Gamma_{\\mu \\sigma \\alpha} - \\frac{\\partial g_{\\mu \\alpha}}{\\partial x^{\\rho}}\\Gamma^{\\alpha}_{\\ \\nu \\sigma} + \\frac{\\partial g_{\\mu \\alpha}}{\\partial x^{\\sigma}}\\Gamma^{\\alpha}_{\\ \\nu \\rho} $$"
   ]
  },
  {
   "cell_type": "code",
   "execution_count": 18,
   "metadata": {
    "collapsed": false
   },
   "outputs": [],
   "source": [
    "Rm = Riemann('Rm', g)"
   ]
  },
  {
   "cell_type": "markdown",
   "metadata": {},
   "source": [
    "Nonzero components of the _Riemann_ tensor (up to symmetries) are"
   ]
  },
  {
   "cell_type": "code",
   "execution_count": 19,
   "metadata": {
    "collapsed": false
   },
   "outputs": [
    {
     "data": {
      "text/latex": [
       "$$R_{1212} = - \\frac{2 G}{r^{3}} M$$"
      ],
      "text/plain": [
       "<IPython.core.display.Math object>"
      ]
     },
     "metadata": {},
     "output_type": "display_data"
    },
    {
     "data": {
      "text/latex": [
       "$$R_{1313} = \\frac{G M}{c^{2} r^{2}} \\left(- 2 G M + c^{2} r\\right)$$"
      ],
      "text/plain": [
       "<IPython.core.display.Math object>"
      ]
     },
     "metadata": {},
     "output_type": "display_data"
    },
    {
     "data": {
      "text/latex": [
       "$$R_{1414} = \\frac{G M}{c^{2} r^{2}} \\left(- 2 G M + c^{2} r\\right) \\sin^{2}{\\left (\\theta \\right )}$$"
      ],
      "text/plain": [
       "<IPython.core.display.Math object>"
      ]
     },
     "metadata": {},
     "output_type": "display_data"
    },
    {
     "data": {
      "text/latex": [
       "$$R_{2323} = \\frac{G M}{2 G M - c^{2} r}$$"
      ],
      "text/plain": [
       "<IPython.core.display.Math object>"
      ]
     },
     "metadata": {},
     "output_type": "display_data"
    },
    {
     "data": {
      "text/latex": [
       "$$R_{2424} = \\frac{G M \\sin^{2}{\\left (\\theta \\right )}}{2 G M - c^{2} r}$$"
      ],
      "text/plain": [
       "<IPython.core.display.Math object>"
      ]
     },
     "metadata": {},
     "output_type": "display_data"
    },
    {
     "data": {
      "text/latex": [
       "$$R_{3434} = \\frac{2 G}{c^{2}} M r \\sin^{2}{\\left (\\theta \\right )}$$"
      ],
      "text/plain": [
       "<IPython.core.display.Math object>"
      ]
     },
     "metadata": {},
     "output_type": "display_data"
    }
   ],
   "source": [
    "from IPython.core.display import display, Math\n",
    "for i, j, k, l in list(variations(range(1, n+1), 4, True)):\n",
    "    if Rm(i, j, k, l) != 0 and k<l and i<j:\n",
    "        display(Math('R_{'+str(i)+str(j)+str(k)+str(l)+'} = '+latex(Rm(i, j, k, l))))"
   ]
  },
  {
   "cell_type": "markdown",
   "metadata": {},
   "source": [
    "You can also display the matrix representation of the tensor"
   ]
  },
  {
   "cell_type": "code",
   "execution_count": 20,
   "metadata": {
    "collapsed": false
   },
   "outputs": [
    {
     "data": {
      "image/png": "[encoded data removed]",
      "text/latex": [
       "$$\\left[\\begin{matrix}\\left[\\begin{matrix}0 & 0 & 0 & 0\\\\0 & 0 & 0 & 0\\\\0 & 0 & 0 & 0\\\\0 & 0 & 0 & 0\\end{matrix}\\right] & \\left[\\begin{matrix}0 & - \\frac{2 G}{r^{3}} M & 0 & 0\\\\\\frac{2 G}{r^{3}} M & 0 & 0 & 0\\\\0 & 0 & 0 & 0\\\\0 & 0 & 0 & 0\\end{matrix}\\right] & \\left[\\begin{matrix}0 & 0 & \\frac{G M}{c^{2} r^{2}} \\left(- 2 G M + c^{2} r\\right) & 0\\\\0 & 0 & 0 & 0\\\\- \\frac{G M}{c^{2} r^{2}} \\left(- 2 G M + c^{2} r\\right) & 0 & 0 & 0\\\\0 & 0 & 0 & 0\\end{matrix}\\right] & \\left[\\begin{matrix}0 & 0 & 0 & \\frac{G M}{c^{2} r^{2}} \\left(- 2 G M + c^{2} r\\right) \\sin^{2}{\\left (\\theta \\right )}\\\\0 & 0 & 0 & 0\\\\0 & 0 & 0 & 0\\\\- \\frac{G M}{c^{2} r^{2}} \\left(- 2 G M + c^{2} r\\right) \\sin^{2}{\\left (\\theta \\right )} & 0 & 0 & 0\\end{matrix}\\right]\\\\\\left[\\begin{matrix}0 & \\frac{2 G}{r^{3}} M & 0 & 0\\\\- \\frac{2 G}{r^{3}} M & 0 & 0 & 0\\\\0 & 0 & 0 & 0\\\\0 & 0 & 0 & 0\\end{matrix}\\right] & \\left[\\begin{matrix}0 & 0 & 0 & 0\\\\0 & 0 & 0 & 0\\\\0 & 0 & 0 & 0\\\\0 & 0 & 0 & 0\\end{matrix}\\right] & \\left[\\begin{matrix}0 & 0 & 0 & 0\\\\0 & 0 & \\frac{G M}{2 G M - c^{2} r} & 0\\\\0 & - \\frac{G M}{2 G M - c^{2} r} & 0 & 0\\\\0 & 0 & 0 & 0\\end{matrix}\\right] & \\left[\\begin{matrix}0 & 0 & 0 & 0\\\\0 & 0 & 0 & \\frac{G M \\sin^{2}{\\left (\\theta \\right )}}{2 G M - c^{2} r}\\\\0 & 0 & 0 & 0\\\\0 & - \\frac{G M \\sin^{2}{\\left (\\theta \\right )}}{2 G M - c^{2} r} & 0 & 0\\end{matrix}\\right]\\\\\\left[\\begin{matrix}0 & 0 & - \\frac{G M}{c^{2} r^{2}} \\left(- 2 G M + c^{2} r\\right) & 0\\\\0 & 0 & 0 & 0\\\\\\frac{G M}{c^{2} r^{2}} \\left(- 2 G M + c^{2} r\\right) & 0 & 0 & 0\\\\0 & 0 & 0 & 0\\end{matrix}\\right] & \\left[\\begin{matrix}0 & 0 & 0 & 0\\\\0 & 0 & - \\frac{G M}{2 G M - c^{2} r} & 0\\\\0 & \\frac{G M}{2 G M - c^{2} r} & 0 & 0\\\\0 & 0 & 0 & 0\\end{matrix}\\right] & \\left[\\begin{matrix}0 & 0 & 0 & 0\\\\0 & 0 & 0 & 0\\\\0 & 0 & 0 & 0\\\\0 & 0 & 0 & 0\\end{matrix}\\right] & \\left[\\begin{matrix}0 & 0 & 0 & 0\\\\0 & 0 & 0 & 0\\\\0 & 0 & 0 & \\frac{2 G}{c^{2}} M r \\sin^{2}{\\left (\\theta \\right )}\\\\0 & 0 & - \\frac{2 G}{c^{2}} M r \\sin^{2}{\\left (\\theta \\right )} & 0\\end{matrix}\\right]\\\\\\left[\\begin{matrix}0 & 0 & 0 & - \\frac{G M}{c^{2} r^{2}} \\left(- 2 G M + c^{2} r\\right) \\sin^{2}{\\left (\\theta \\right )}\\\\0 & 0 & 0 & 0\\\\0 & 0 & 0 & 0\\\\\\frac{G M}{c^{2} r^{2}} \\left(- 2 G M + c^{2} r\\right) \\sin^{2}{\\left (\\theta \\right )} & 0 & 0 & 0\\end{matrix}\\right] & \\left[\\begin{matrix}0 & 0 & 0 & 0\\\\0 & 0 & 0 & - \\frac{G M \\sin^{2}{\\left (\\theta \\right )}}{2 G M - c^{2} r}\\\\0 & 0 & 0 & 0\\\\0 & \\frac{G M \\sin^{2}{\\left (\\theta \\right )}}{2 G M - c^{2} r} & 0 & 0\\end{matrix}\\right] & \\left[\\begin{matrix}0 & 0 & 0 & 0\\\\0 & 0 & 0 & 0\\\\0 & 0 & 0 & - \\frac{2 G}{c^{2}} M r \\sin^{2}{\\left (\\theta \\right )}\\\\0 & 0 & \\frac{2 G}{c^{2}} M r \\sin^{2}{\\left (\\theta \\right )} & 0\\end{matrix}\\right] & \\left[\\begin{matrix}0 & 0 & 0 & 0\\\\0 & 0 & 0 & 0\\\\0 & 0 & 0 & 0\\\\0 & 0 & 0 & 0\\end{matrix}\\right]\\end{matrix}\\right]$$"
      ],
      "text/plain": [
       "⎡                                                                             \n",
       "⎢                                                                             \n",
       "⎢                                ⎡0  0  0  0⎤                                 \n",
       "⎢                                ⎢          ⎥                                 \n",
       "⎢                                ⎢0  0  0  0⎥                                 \n",
       "⎢                                ⎢          ⎥                                 \n",
       "⎢                                ⎢0  0  0  0⎥                                 \n",
       "⎢                                ⎢          ⎥                                 \n",
       "⎢                                ⎣0  0  0  0⎦                                 \n",
       "⎢                                                                             \n",
       "⎢                                                                             \n",
       "⎢                                                                             \n",
       "⎢                                                                             \n",
       "⎢                                                                             \n",
       "⎢                                                                             \n",
       "⎢                                                                             \n",
       "⎢                           ⎡         2⋅G⋅M      ⎤                            \n",
       "⎢                           ⎢   0     ─────  0  0⎥                            \n",
       "⎢                           ⎢            3       ⎥                            \n",
       "⎢                           ⎢           r        ⎥                            \n",
       "⎢                           ⎢                    ⎥                            \n",
       "⎢                           ⎢-2⋅G⋅M              ⎥                            \n",
       "⎢                           ⎢───────    0    0  0⎥                            \n",
       "⎢                           ⎢    3               ⎥                            \n",
       "⎢                           ⎢   r                ⎥                            \n",
       "⎢                           ⎢                    ⎥                            \n",
       "⎢                           ⎢   0       0    0  0⎥                            \n",
       "⎢                           ⎢                    ⎥                            \n",
       "⎢                           ⎣   0       0    0  0⎦                            \n",
       "⎢                                                                             \n",
       "⎢                                                                             \n",
       "⎢                                                                             \n",
       "⎢                                                                             \n",
       "⎢             ⎡                             ⎛          2  ⎞    ⎤              \n",
       "⎢             ⎢                        -G⋅M⋅⎝-2⋅G⋅M + c ⋅r⎠    ⎥              \n",
       "⎢             ⎢         0           0  ─────────────────────  0⎥              \n",
       "⎢             ⎢                                 2  2           ⎥              \n",
       "⎢             ⎢                                c ⋅r            ⎥              \n",
       "⎢             ⎢                                                ⎥              \n",
       "⎢             ⎢         0           0            0            0⎥              \n",
       "⎢             ⎢                                                ⎥              \n",
       "⎢             ⎢    ⎛          2  ⎞                             ⎥              \n",
       "⎢             ⎢G⋅M⋅⎝-2⋅G⋅M + c ⋅r⎠                             ⎥              \n",
       "⎢             ⎢───────────────────  0            0            0⎥              \n",
       "⎢             ⎢        2  2                                    ⎥              \n",
       "⎢             ⎢       c ⋅r                                     ⎥              \n",
       "⎢             ⎢                                                ⎥              \n",
       "⎢             ⎣         0           0            0            0⎦              \n",
       "⎢                                                                             \n",
       "⎢                                                                             \n",
       "⎢                                                                             \n",
       "⎢⎡                                             ⎛          2  ⎞    2         ⎤ \n",
       "⎢⎢                                        -G⋅M⋅⎝-2⋅G⋅M + c ⋅r⎠⋅sin (\\theta) ⎥ \n",
       "⎢⎢               0                  0  0  ──────────────────────────────────⎥ \n",
       "⎢⎢                                                       2  2               ⎥ \n",
       "⎢⎢                                                      c ⋅r                ⎥ \n",
       "⎢⎢                                                                          ⎥ \n",
       "⎢⎢               0                  0  0                  0                 ⎥ \n",
       "⎢⎢                                                                          ⎥ \n",
       "⎢⎢               0                  0  0                  0                 ⎥ \n",
       "⎢⎢                                                                          ⎥ \n",
       "⎢⎢    ⎛          2  ⎞    2                                                  ⎥ \n",
       "⎢⎢G⋅M⋅⎝-2⋅G⋅M + c ⋅r⎠⋅sin (\\theta)                                          ⎥ \n",
       "⎢⎢────────────────────────────────  0  0                  0                 ⎥ \n",
       "⎢⎢              2  2                                                        ⎥ \n",
       "⎢⎣             c ⋅r                                                         ⎦ \n",
       "⎢                                                                             \n",
       "⎣                                                                             \n",
       "\n",
       "                                                ⎡                             \n",
       "            ⎡       -2⋅G⋅M       ⎤              ⎢                          G⋅M\n",
       "            ⎢  0    ───────  0  0⎥              ⎢          0            0  ───\n",
       "            ⎢           3        ⎥              ⎢                             \n",
       "            ⎢          r         ⎥              ⎢                             \n",
       "            ⎢                    ⎥              ⎢                             \n",
       "            ⎢2⋅G⋅M               ⎥              ⎢          0            0     \n",
       "            ⎢─────     0     0  0⎥              ⎢                             \n",
       "            ⎢   3                ⎥              ⎢     ⎛          2  ⎞         \n",
       "            ⎢  r                 ⎥              ⎢-G⋅M⋅⎝-2⋅G⋅M + c ⋅r⎠         \n",
       "            ⎢                    ⎥              ⎢─────────────────────  0     \n",
       "            ⎢  0       0     0  0⎥              ⎢         2  2                \n",
       "            ⎢                    ⎥              ⎢        c ⋅r                 \n",
       "            ⎣  0       0     0  0⎦              ⎢                             \n",
       "                                                ⎣          0            0     \n",
       "                                                                              \n",
       "                                                                              \n",
       "                 ⎡0  0  0  0⎤                           ⎡0       0            \n",
       "                 ⎢          ⎥                           ⎢                     \n",
       "                 ⎢0  0  0  0⎥                           ⎢                     \n",
       "                 ⎢          ⎥                           ⎢0       0        ────\n",
       "                 ⎢0  0  0  0⎥                           ⎢                     \n",
       "                 ⎢          ⎥                           ⎢                 2⋅G⋅\n",
       "                 ⎣0  0  0  0⎦                           ⎢                     \n",
       "                                                        ⎢      -G⋅M           \n",
       "                                                        ⎢0  ────────────      \n",
       "                                                        ⎢            2        \n",
       "                                                        ⎢   2⋅G⋅M - c ⋅r      \n",
       "                                                        ⎢                     \n",
       "                                                        ⎣0       0            \n",
       "                                                                              \n",
       "                                                                              \n",
       "                                                                              \n",
       "                                                                              \n",
       "                                                                              \n",
       "      ⎡0       0             0        0⎤                           ⎡0  0  0  0\n",
       "      ⎢                                ⎥                           ⎢          \n",
       "      ⎢                    -G⋅M        ⎥                           ⎢0  0  0  0\n",
       "      ⎢0       0        ────────────  0⎥                           ⎢          \n",
       "      ⎢                          2     ⎥                           ⎢0  0  0  0\n",
       "      ⎢                 2⋅G⋅M - c ⋅r   ⎥                           ⎢          \n",
       "      ⎢                                ⎥                           ⎣0  0  0  0\n",
       "      ⎢       G⋅M                      ⎥                                      \n",
       "      ⎢0  ────────────       0        0⎥                                      \n",
       "      ⎢            2                   ⎥                                      \n",
       "      ⎢   2⋅G⋅M - c ⋅r                 ⎥                                      \n",
       "      ⎢                                ⎥                                      \n",
       "      ⎣0       0             0        0⎦                                      \n",
       "                                                                              \n",
       "                                                                              \n",
       "                                                                              \n",
       "                                                                              \n",
       "                                                                              \n",
       " ⎡0         0          0          0         ⎤  ⎡0  0           0              \n",
       " ⎢                                          ⎥  ⎢                              \n",
       " ⎢                                2         ⎥  ⎢0  0           0              \n",
       " ⎢                        -G⋅M⋅sin (\\theta) ⎥  ⎢                              \n",
       " ⎢0         0          0  ──────────────────⎥  ⎢                              \n",
       " ⎢                                    2     ⎥  ⎢                            -2\n",
       " ⎢                           2⋅G⋅M - c ⋅r   ⎥  ⎢0  0           0            ──\n",
       " ⎢                                          ⎥  ⎢                              \n",
       " ⎢0         0          0          0         ⎥  ⎢                              \n",
       " ⎢                                          ⎥  ⎢                              \n",
       " ⎢          2                               ⎥  ⎢                 2            \n",
       " ⎢   G⋅M⋅sin (\\theta)                       ⎥  ⎢      2⋅G⋅M⋅r⋅sin (\\theta)    \n",
       " ⎢0  ────────────────  0          0         ⎥  ⎢0  0  ────────────────────    \n",
       " ⎢              2                           ⎥  ⎢                2             \n",
       " ⎣     2⋅G⋅M - c ⋅r                         ⎦  ⎣               c              \n",
       "\n",
       " ⎛          2  ⎞   ⎤   ⎡                                              ⎛       \n",
       "⋅⎝-2⋅G⋅M + c ⋅r⎠   ⎥   ⎢                                          G⋅M⋅⎝-2⋅G⋅M \n",
       "────────────────  0⎥   ⎢                0                   0  0  ────────────\n",
       "     2  2          ⎥   ⎢                                                      \n",
       "    c ⋅r           ⎥   ⎢                                                      \n",
       "                   ⎥   ⎢                                                      \n",
       "      0           0⎥   ⎢                0                   0  0              \n",
       "                   ⎥   ⎢                                                      \n",
       "                   ⎥   ⎢                0                   0  0              \n",
       "                   ⎥   ⎢                                                      \n",
       "      0           0⎥   ⎢     ⎛          2  ⎞    2                             \n",
       "                   ⎥   ⎢-G⋅M⋅⎝-2⋅G⋅M + c ⋅r⎠⋅sin (\\theta)                     \n",
       "                   ⎥   ⎢──────────────────────────────────  0  0              \n",
       "                   ⎥   ⎢               2  2                                   \n",
       "      0           0⎦   ⎣              c ⋅r                                    \n",
       "                                                                              \n",
       "                                                                              \n",
       " 0        0⎤                           ⎡0          0           0         0    \n",
       "           ⎥                           ⎢                                      \n",
       "G⋅M        ⎥                           ⎢                                 2    \n",
       "────────  0⎥                           ⎢                          G⋅M⋅sin (\\th\n",
       "     2     ⎥                           ⎢0          0           0  ────────────\n",
       "M - c ⋅r   ⎥                           ⎢                                     2\n",
       "           ⎥                           ⎢                            2⋅G⋅M - c \n",
       "           ⎥                           ⎢                                      \n",
       " 0        0⎥                           ⎢0          0           0         0    \n",
       "           ⎥                           ⎢                                      \n",
       "           ⎥                           ⎢           2                          \n",
       "           ⎥                           ⎢   -G⋅M⋅sin (\\theta)                  \n",
       " 0        0⎦                           ⎢0  ──────────────────  0         0    \n",
       "                                       ⎢               2                      \n",
       "                                       ⎣      2⋅G⋅M - c ⋅r                    \n",
       "                                                                              \n",
       "                                                                              \n",
       "                                                                              \n",
       "⎤                                  ⎡0  0            0                      0  \n",
       "⎥                                  ⎢                                          \n",
       "⎥                                  ⎢0  0            0                      0  \n",
       "⎥                                  ⎢                                          \n",
       "⎥                                  ⎢                                         2\n",
       "⎥                                  ⎢                              2⋅G⋅M⋅r⋅sin \n",
       "⎦                                  ⎢0  0            0             ────────────\n",
       "                                   ⎢                                        2 \n",
       "                                   ⎢                                       c  \n",
       "                                   ⎢                                          \n",
       "                                   ⎢                  2                       \n",
       "                                   ⎢      -2⋅G⋅M⋅r⋅sin (\\theta)               \n",
       "                                   ⎢0  0  ──────────────────────           0  \n",
       "                                   ⎢                 2                        \n",
       "                                   ⎣                c                         \n",
       "                                                                              \n",
       "                                                                              \n",
       "                                                                              \n",
       "        0           ⎤                                  ⎡0  0  0  0⎤           \n",
       "                    ⎥                                  ⎢          ⎥           \n",
       "        0           ⎥                                  ⎢0  0  0  0⎥           \n",
       "                    ⎥                                  ⎢          ⎥           \n",
       "          2         ⎥                                  ⎢0  0  0  0⎥           \n",
       "⋅G⋅M⋅r⋅sin (\\theta) ⎥                                  ⎢          ⎥           \n",
       "────────────────────⎥                                  ⎣0  0  0  0⎦           \n",
       "         2          ⎥                                                         \n",
       "        c           ⎥                                                         \n",
       "                    ⎥                                                         \n",
       "                    ⎥                                                         \n",
       "                    ⎥                                                         \n",
       "        0           ⎥                                                         \n",
       "                    ⎥                                                         \n",
       "                    ⎦                                                         \n",
       "\n",
       "   2  ⎞    2        ⎤⎤\n",
       "+ c ⋅r⎠⋅sin (\\theta)⎥⎥\n",
       "────────────────────⎥⎥\n",
       "  2  2              ⎥⎥\n",
       " c ⋅r               ⎥⎥\n",
       "                    ⎥⎥\n",
       "   0                ⎥⎥\n",
       "                    ⎥⎥\n",
       "   0                ⎥⎥\n",
       "                    ⎥⎥\n",
       "                    ⎥⎥\n",
       "                    ⎥⎥\n",
       "   0                ⎥⎥\n",
       "                    ⎥⎥\n",
       "                    ⎦⎥\n",
       "                     ⎥\n",
       "                     ⎥\n",
       "    ⎤                ⎥\n",
       "    ⎥                ⎥\n",
       "    ⎥                ⎥\n",
       "eta)⎥                ⎥\n",
       "────⎥                ⎥\n",
       "    ⎥                ⎥\n",
       "⋅r  ⎥                ⎥\n",
       "    ⎥                ⎥\n",
       "    ⎥                ⎥\n",
       "    ⎥                ⎥\n",
       "    ⎥                ⎥\n",
       "    ⎥                ⎥\n",
       "    ⎥                ⎥\n",
       "    ⎥                ⎥\n",
       "    ⎦                ⎥\n",
       "                     ⎥\n",
       "                     ⎥\n",
       "                     ⎥\n",
       "        ⎤            ⎥\n",
       "        ⎥            ⎥\n",
       "        ⎥            ⎥\n",
       "        ⎥            ⎥\n",
       "        ⎥            ⎥\n",
       "(\\theta)⎥            ⎥\n",
       "────────⎥            ⎥\n",
       "        ⎥            ⎥\n",
       "        ⎥            ⎥\n",
       "        ⎥            ⎥\n",
       "        ⎥            ⎥\n",
       "        ⎥            ⎥\n",
       "        ⎥            ⎥\n",
       "        ⎥            ⎥\n",
       "        ⎦            ⎥\n",
       "                     ⎥\n",
       "                     ⎥\n",
       "                     ⎥\n",
       "                     ⎥\n",
       "                     ⎥\n",
       "                     ⎥\n",
       "                     ⎥\n",
       "                     ⎥\n",
       "                     ⎥\n",
       "                     ⎥\n",
       "                     ⎥\n",
       "                     ⎥\n",
       "                     ⎥\n",
       "                     ⎥\n",
       "                     ⎥\n",
       "                     ⎥\n",
       "                     ⎥\n",
       "                     ⎦"
      ]
     },
     "execution_count": 20,
     "metadata": {},
     "output_type": "execute_result"
    }
   ],
   "source": [
    "Rm(All, All, All, All)"
   ]
  },
  {
   "cell_type": "markdown",
   "metadata": {},
   "source": [
    "Contraction of the _Riemann_ tensor $R_{\\mu \\nu} = R^{\\rho}_{\\ \\mu \\rho \\nu} $"
   ]
  },
  {
   "cell_type": "code",
   "execution_count": 22,
   "metadata": {
    "collapsed": false
   },
   "outputs": [
    {
     "data": {
      "image/png": "[encoded data removed]",
      "text/latex": [
       "$$\\left[\\begin{matrix}0 & 0 & 0 & 0\\\\0 & 0 & 0 & 0\\\\0 & 0 & 0 & 0\\\\0 & 0 & 0 & 0\\end{matrix}\\right]$$"
      ],
      "text/plain": [
       "⎡0  0  0  0⎤\n",
       "⎢          ⎥\n",
       "⎢0  0  0  0⎥\n",
       "⎢          ⎥\n",
       "⎢0  0  0  0⎥\n",
       "⎢          ⎥\n",
       "⎣0  0  0  0⎦"
      ]
     },
     "execution_count": 22,
     "metadata": {},
     "output_type": "execute_result"
    }
   ],
   "source": [
    "ricci = sum([Rm(i, All, k, All)*g(-i, -k) for i, k in list(variations(range(1, n+1), 2, True))], zeros(n))\n",
    "ricci.simplify()\n",
    "ricci"
   ]
  },
  {
   "cell_type": "markdown",
   "metadata": {},
   "source": [
    "### The _Ricci_ Tensor"
   ]
  },
  {
   "cell_type": "markdown",
   "metadata": {},
   "source": [
    "$$ R_{\\mu \\nu} = \\frac{\\partial \\Gamma^{\\sigma}_{\\ \\mu \\nu}}{\\partial x^{\\sigma}} - \\frac{\\partial \\Gamma^{\\sigma}_{\\ \\mu \\sigma}}{\\partial x^{\\nu}} + \\Gamma^{\\sigma}_{\\ \\mu \\nu}\\Gamma^{\\rho}_{\\ \\sigma \\rho} - \\Gamma^{\\rho}_{\\ \\mu \\sigma}\\Gamma^{\\sigma}_{\\ \\nu \\rho} $$"
   ]
  },
  {
   "cell_type": "code",
   "execution_count": 23,
   "metadata": {
    "collapsed": false
   },
   "outputs": [
    {
     "data": {
      "image/png": "[encoded data removed]",
      "text/latex": [
       "$$\\left[\\begin{matrix}0 & 0 & 0 & 0\\\\0 & 0 & 0 & 0\\\\0 & 0 & 0 & 0\\\\0 & 0 & 0 & 0\\end{matrix}\\right]$$"
      ],
      "text/plain": [
       "⎡0  0  0  0⎤\n",
       "⎢          ⎥\n",
       "⎢0  0  0  0⎥\n",
       "⎢          ⎥\n",
       "⎢0  0  0  0⎥\n",
       "⎢          ⎥\n",
       "⎣0  0  0  0⎦"
      ]
     },
     "execution_count": 23,
     "metadata": {},
     "output_type": "execute_result"
    }
   ],
   "source": [
    "Ri = Ricci('Ri', g)\n",
    "Ri(All, All)"
   ]
  },
  {
   "cell_type": "markdown",
   "metadata": {},
   "source": [
    "Contraction of the _Ricci_ tensor $R = R_{\\mu}^{\\ \\mu} = g^{\\mu \\nu}R_{\\mu \\nu}$ can be computed with the attribute .scalar()"
   ]
  },
  {
   "cell_type": "code",
   "execution_count": 24,
   "metadata": {
    "collapsed": false
   },
   "outputs": [
    {
     "data": {
      "image/png": "[encoded data removed]",
      "text/latex": [
       "$$0$$"
      ],
      "text/plain": [
       "0"
      ]
     },
     "execution_count": 24,
     "metadata": {},
     "output_type": "execute_result"
    }
   ],
   "source": [
    "Ri.scalar()"
   ]
  },
  {
   "cell_type": "markdown",
   "metadata": {},
   "source": [
    "### The _Einstein_ tensor"
   ]
  },
  {
   "cell_type": "markdown",
   "metadata": {},
   "source": [
    "$$ G_{\\mu \\nu} = R_{\\mu \\nu} - \\frac{1}{2}g_{\\mu \\nu}R $$"
   ]
  },
  {
   "cell_type": "code",
   "execution_count": 25,
   "metadata": {
    "collapsed": false
   },
   "outputs": [
    {
     "data": {
      "image/png": "[encoded data removed]",
      "text/latex": [
       "$$\\left[\\begin{matrix}0 & 0 & 0 & 0\\\\0 & 0 & 0 & 0\\\\0 & 0 & 0 & 0\\\\0 & 0 & 0 & 0\\end{matrix}\\right]$$"
      ],
      "text/plain": [
       "⎡0  0  0  0⎤\n",
       "⎢          ⎥\n",
       "⎢0  0  0  0⎥\n",
       "⎢          ⎥\n",
       "⎢0  0  0  0⎥\n",
       "⎢          ⎥\n",
       "⎣0  0  0  0⎦"
      ]
     },
     "execution_count": 25,
     "metadata": {},
     "output_type": "execute_result"
    }
   ],
   "source": [
    "G = Einstein('G', Ri)\n",
    "G(All, All)"
   ]
  },
  {
   "cell_type": "markdown",
   "metadata": {},
   "source": [
    "### _Geodesics_"
   ]
  },
  {
   "cell_type": "markdown",
   "metadata": {},
   "source": [
    "$$ w_{\\mu}  = \\frac{d^2x_{\\mu}}{d\\tau^2} - \\frac{1}{2}g_{\\rho \\sigma, \\mu} \\frac{dx^{\\rho}}{d\\tau}\\frac{dx^{\\sigma}}{d\\tau} $$"
   ]
  },
  {
   "cell_type": "code",
   "execution_count": 26,
   "metadata": {
    "collapsed": false
   },
   "outputs": [
    {
     "data": {
      "image/png": "[encoded data removed]",
      "text/latex": [
       "$$\\left[\\begin{matrix}- \\frac{2 G M}{r^{2}{\\left (\\tau \\right )}} \\frac{d}{d \\tau} r{\\left (\\tau \\right )} \\frac{d}{d \\tau} t{\\left (\\tau \\right )} + c^{2} \\left(\\frac{2 G M}{c^{2} r{\\left (\\tau \\right )}} - 1\\right) \\frac{d^{2}}{d \\tau^{2}}  t{\\left (\\tau \\right )}\\\\\\frac{G M \\left(\\frac{d}{d \\tau} t{\\left (\\tau \\right )}\\right)^{2}}{r^{2}{\\left (\\tau \\right )}} - \\frac{G M \\left(\\frac{d}{d \\tau} r{\\left (\\tau \\right )}\\right)^{2}}{c^{2} \\left(- \\frac{2 G M}{c^{2} r{\\left (\\tau \\right )}} + 1\\right)^{2} r^{2}{\\left (\\tau \\right )}} - r{\\left (\\tau \\right )} \\sin^{2}{\\left (\\theta{\\left (\\tau \\right )} \\right )} \\left(\\frac{d}{d \\tau} \\varphi{\\left (\\tau \\right )}\\right)^{2} - r{\\left (\\tau \\right )} \\left(\\frac{d}{d \\tau} \\theta{\\left (\\tau \\right )}\\right)^{2} + \\frac{\\frac{d^{2}}{d \\tau^{2}}  r{\\left (\\tau \\right )}}{- \\frac{2 G M}{c^{2} r{\\left (\\tau \\right )}} + 1}\\\\- r^{2}{\\left (\\tau \\right )} \\sin{\\left (\\theta{\\left (\\tau \\right )} \\right )} \\cos{\\left (\\theta{\\left (\\tau \\right )} \\right )} \\left(\\frac{d}{d \\tau} \\varphi{\\left (\\tau \\right )}\\right)^{2} + r^{2}{\\left (\\tau \\right )} \\frac{d^{2}}{d \\tau^{2}}  \\theta{\\left (\\tau \\right )} + 2 r{\\left (\\tau \\right )} \\frac{d}{d \\tau} \\theta{\\left (\\tau \\right )} \\frac{d}{d \\tau} r{\\left (\\tau \\right )}\\\\r^{2}{\\left (\\tau \\right )} \\sin^{2}{\\left (\\theta{\\left (\\tau \\right )} \\right )} \\frac{d^{2}}{d \\tau^{2}}  \\varphi{\\left (\\tau \\right )} + 2 r^{2}{\\left (\\tau \\right )} \\sin{\\left (\\theta{\\left (\\tau \\right )} \\right )} \\cos{\\left (\\theta{\\left (\\tau \\right )} \\right )} \\frac{d}{d \\tau} \\theta{\\left (\\tau \\right )} \\frac{d}{d \\tau} \\varphi{\\left (\\tau \\right )} + 2 r{\\left (\\tau \\right )} \\sin^{2}{\\left (\\theta{\\left (\\tau \\right )} \\right )} \\frac{d}{d \\tau} \\varphi{\\left (\\tau \\right )} \\frac{d}{d \\tau} r{\\left (\\tau \\right )}\\end{matrix}\\right]$$"
      ],
      "text/plain": [
       "⎡                                                                           d \n",
       "⎢                                                                   2⋅G⋅M⋅────\n",
       "⎢                                                                         d\\ta\n",
       "⎢                                                                 - ──────────\n",
       "⎢                                                                             \n",
       "⎢                                                                             \n",
       "⎢                                                                             \n",
       "⎢                                                                             \n",
       "⎢                                           2                            2    \n",
       "⎢                           ⎛  d           ⎞             ⎛  d           ⎞     \n",
       "⎢                       G⋅M⋅⎜─────(t(\\tau))⎟         G⋅M⋅⎜─────(r(\\tau))⎟     \n",
       "⎢                           ⎝d\\tau         ⎠             ⎝d\\tau         ⎠     \n",
       "⎢                       ───────────────────── - ──────────────────────────────\n",
       "⎢                               2                                    2        \n",
       "⎢                              r (\\tau)          2 ⎛    2⋅G⋅M       ⎞   2     \n",
       "⎢                                               c ⋅⎜- ────────── + 1⎟ ⋅r (\\tau\n",
       "⎢                                                  ⎜   2            ⎟         \n",
       "⎢                                                  ⎝  c ⋅r(\\tau)    ⎠         \n",
       "⎢                                                                             \n",
       "⎢                                                                             \n",
       "⎢                               2                                           ⎛ \n",
       "⎢                            - r (\\tau)⋅sin(\\theta(\\tau))⋅cos(\\theta(\\tau))⋅⎜─\n",
       "⎢                                                                           ⎝d\n",
       "⎢                                                                             \n",
       "⎢                                                                             \n",
       "⎢                               2                                             \n",
       "⎢ 2          2                 d                        2                     \n",
       "⎢r (\\tau)⋅sin (\\theta(\\tau))⋅──────(\\varphi(\\tau)) + 2⋅r (\\tau)⋅sin(\\theta(\\ta\n",
       "⎢                                 2                                           \n",
       "⎣                            d\\tau                                            \n",
       "\n",
       "             d                                                                \n",
       "─(r(\\tau))⋅─────(t(\\tau))                          2                          \n",
       "u          d\\tau             2 ⎛  2⋅G⋅M       ⎞   d                           \n",
       "───────────────────────── + c ⋅⎜────────── - 1⎟⋅──────(t(\\tau))               \n",
       "     2                         ⎜ 2            ⎟      2                        \n",
       "    r (\\tau)                   ⎝c ⋅r(\\tau)    ⎠ d\\tau                         \n",
       "                                                                              \n",
       "                                                                              \n",
       "                                                                              \n",
       "                                                                              \n",
       "                                                     2                        \n",
       "               2               ⎛  d                 ⎞            ⎛  d         \n",
       "─ - r(\\tau)⋅sin (\\theta(\\tau))⋅⎜─────(\\varphi(\\tau))⎟  - r(\\tau)⋅⎜─────(\\theta\n",
       "                               ⎝d\\tau               ⎠            ⎝d\\tau       \n",
       "                                                                              \n",
       ")                                                                             \n",
       "                                                                              \n",
       "                                                                              \n",
       "                                                                              \n",
       "                    2               2                                         \n",
       " d                 ⎞     2         d                                d         \n",
       "────(\\varphi(\\tau))⎟  + r (\\tau)⋅──────(\\theta(\\tau)) + 2⋅r(\\tau)⋅─────(\\theta\n",
       "\\tau               ⎠                  2                           d\\tau       \n",
       "                                 d\\tau                                        \n",
       "                                                                              \n",
       "                                                                              \n",
       "                        d                   d                                 \n",
       "u))⋅cos(\\theta(\\tau))⋅─────(\\theta(\\tau))⋅─────(\\varphi(\\tau)) + 2⋅r(\\tau)⋅sin\n",
       "                      d\\tau               d\\tau                               \n",
       "                                                                              \n",
       "\n",
       "                                                   ⎤\n",
       "                                                   ⎥\n",
       "                                                   ⎥\n",
       "                                                   ⎥\n",
       "                                                   ⎥\n",
       "                                                   ⎥\n",
       "                                                   ⎥\n",
       "               2                                   ⎥\n",
       "              d                                    ⎥\n",
       "            ──────(r(\\tau))                        ⎥\n",
       "        2        2                                 ⎥\n",
       "       ⎞    d\\tau                                  ⎥\n",
       "(\\tau))⎟  + ────────────────                       ⎥\n",
       "       ⎠        2⋅G⋅M                              ⎥\n",
       "            - ────────── + 1                       ⎥\n",
       "               2                                   ⎥\n",
       "              c ⋅r(\\tau)                           ⎥\n",
       "                                                   ⎥\n",
       "                                                   ⎥\n",
       "                                                   ⎥\n",
       "          d                                        ⎥\n",
       "(\\tau))⋅─────(r(\\tau))                             ⎥\n",
       "        d\\tau                                      ⎥\n",
       "                                                   ⎥\n",
       "                                                   ⎥\n",
       "                                                   ⎥\n",
       "2                 d                    d           ⎥\n",
       " (\\theta(\\tau))⋅─────(\\varphi(\\tau))⋅─────(r(\\tau))⎥\n",
       "                d\\tau                d\\tau         ⎥\n",
       "                                                   ⎦"
      ]
     },
     "execution_count": 26,
     "metadata": {},
     "output_type": "execute_result"
    }
   ],
   "source": [
    "tau = Symbol('\\\\tau')\n",
    "w = Geodesic('w', g, tau)\n",
    "w(All).transpose()"
   ]
  },
  {
   "cell_type": "markdown",
   "metadata": {},
   "source": [
    "Please note that instantiation of a _Geodesic_ class for the metric $g$ automatically turns on a _Parametrization_ mode for the metric $g$.  \n",
    "Then all coordinates are functions of a world line parameter $\\tau$"
   ]
  },
  {
   "cell_type": "markdown",
   "metadata": {},
   "source": [
    "### _Kretchmann_ Scalar"
   ]
  },
  {
   "cell_type": "markdown",
   "metadata": {},
   "source": [
    "$K = R_{\\mu  \\nu \\rho \\sigma} R^{\\mu \\nu \\rho \\sigma}$"
   ]
  },
  {
   "cell_type": "code",
   "execution_count": 27,
   "metadata": {
    "collapsed": false
   },
   "outputs": [
    {
     "data": {
      "image/png": "[encoded data removed]",
      "text/latex": [
       "$$\\frac{32 G^{2} M^{2} \\left(- 2 G M + c^{2} r{\\left (\\tau \\right )}\\right)^{2}}{c^{4} \\left(2 G M - c^{2} r{\\left (\\tau \\right )}\\right)^{2} r^{6}{\\left (\\tau \\right )}} + \\frac{16 G^{2} M^{2}}{c^{4} r^{6}{\\left (\\tau \\right )}}$$"
      ],
      "text/plain": [
       "                               2               \n",
       "     2  2 ⎛          2        ⎞           2  2 \n",
       " 32⋅G ⋅M ⋅⎝-2⋅G⋅M + c ⋅r(\\tau)⎠       16⋅G ⋅M  \n",
       "───────────────────────────────── + ───────────\n",
       "                       2             4  6      \n",
       " 4 ⎛         2        ⎞   6         c ⋅r (\\tau)\n",
       "c ⋅⎝2⋅G⋅M - c ⋅r(\\tau)⎠ ⋅r (\\tau)              "
      ]
     },
     "execution_count": 27,
     "metadata": {},
     "output_type": "execute_result"
    }
   ],
   "source": [
    "kretch = sum([Rm(i, j, k, l)*Rm(-i, -j, -k, -l) for i, j, k, l in list(variations(range(1, n+1), 4, repetition=True))])\n",
    "kretch.simplify()\n",
    "kretch"
   ]
  },
  {
   "cell_type": "code",
   "execution_count": 39,
   "metadata": {
    "collapsed": false
   },
   "outputs": [
    {
     "ename": "KeyError",
     "evalue": "63",
     "output_type": "error",
     "traceback": [
      "\u001b[0;31m---------------------------------------------------------------------------\u001b[0m",
      "\u001b[0;31mKeyError\u001b[0m                                  Traceback (most recent call last)",
      "\u001b[0;32m<ipython-input-39-f9cf694adcad>\u001b[0m in \u001b[0;36m<module>\u001b[0;34m()\u001b[0m\n\u001b[0;32m----> 1\u001b[0;31m \u001b[0msimplify\u001b[0m\u001b[0;34m(\u001b[0m\u001b[0mOut\u001b[0m\u001b[0;34m[\u001b[0m\u001b[0;36m63\u001b[0m\u001b[0;34m]\u001b[0m\u001b[0;34m)\u001b[0m\u001b[0;34m\u001b[0m\u001b[0m\n\u001b[0m",
      "\u001b[0;31mKeyError\u001b[0m: 63"
     ]
    }
   ],
   "source": [
    "simplify(Out[63])"
   ]
  },
  {
   "cell_type": "code",
   "execution_count": null,
   "metadata": {
    "collapsed": true
   },
   "outputs": [],
   "source": []
  }
 ],
 "metadata": {
  "kernelspec": {
   "display_name": "Python 2",
   "language": "python",
   "name": "python2"
  },
  "language_info": {
   "codemirror_mode": {
    "name": "ipython",
    "version": 2
   },
   "file_extension": ".py",
   "mimetype": "text/x-python",
   "name": "python",
   "nbconvert_exporter": "python",
   "pygments_lexer": "ipython2",
   "version": "2.7.12"
  }
 },
 "nbformat": 4,
 "nbformat_minor": 0
}
