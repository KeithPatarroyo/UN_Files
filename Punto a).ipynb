{
 "cells": [
  {
   "cell_type": "markdown",
   "metadata": {},
   "source": [
    "# Author: Keith Patarroyo https://keithpatarroyo.wordpress.com/"
   ]
  },
  {
   "cell_type": "markdown",
   "metadata": {},
   "source": [
    "# 1D Finite Element Method   for: \n",
    "# $$ -u''+[2+\\sin(u(x))]=f(x)$$\n",
    "# using Dirichlet and Mixed Boundary Conditions in $[0,1]$"
   ]
  },
  {
   "cell_type": "code",
   "execution_count": 1,
   "metadata": {
    "collapsed": true
   },
   "outputs": [],
   "source": [
    "import numpy as np # to manupulate Matrices and solve Linear Systems\n",
    "import matplotlib.pyplot as plt # Plot the Numerical and Analitic solution to the Differential Equation"
   ]
  },
  {
   "cell_type": "code",
   "execution_count": 2,
   "metadata": {
    "collapsed": true
   },
   "outputs": [],
   "source": [
    "# Integration with Gauss-Legendre Quadrature\n",
    "omega_aux = [5./9.,8./9.,5./9.] # Quadrature Weights for a three point integration\n",
    "p_aux = [-np.sqrt(15.)/5.,0.,+np.sqrt(15.)/5.] # Quadrature points for an integration on the interval [-1,1]"
   ]
  },
  {
   "cell_type": "code",
   "execution_count": 3,
   "metadata": {
    "collapsed": true
   },
   "outputs": [],
   "source": [
    "class Element:\n",
    "    \"\"\"This class contains all the relevant atributes of the Triangulation Element in 1D \"\"\"\n",
    "    \n",
    "    def __init__(self,index,Tinterval,N):\n",
    "        \n",
    "        self.index = index #Indexing of the element\n",
    "        a = Tinterval[0] \n",
    "        b = Tinterval[1]\n",
    "        self.interval = [a+(index-1)*((b-a)/N),a+(index)*((b-a)/N)] # interval of the Element\n",
    "        self.length = self.interval[1]-self.interval[0] # Length of the element (not necesarly = lenght for all)\n",
    "        self.dphi_i = -1./self.length # derivative of \\phi_i \n",
    "        self.dphi_ii = 1./self.length # derivative of \\phi_i+1\n",
    "        self.enum = [index,index+1] # setting up the enumeration of the Elements\n",
    "        self.omega = [0.5*self.length*x for x in omega_aux] # Rescaleted weights for integration in the interval of the element\n",
    "        self.x_q = [self.interval[0] + 0.5*(1.+x)*self.length for x in p_aux] # Rescaleted quadrature points for integration in the interval of the element\n",
    "        self.int_phi_i = [(self.interval[1]-x)/(self.length) for x in self.x_q] # Base phi_i evaluated in the quadrature points\n",
    "        self.int_phi_ii = [(x-self.interval[0])/(self.length) for x in self.x_q] # Base phi_ii evaluated in the quadrature points\n",
    "        self.int_dphi_i = [self.dphi_i for x in range(3)] # Derivateve of base phi_i evaluated in the quadrature points\n",
    "        self.int_dphi_ii = [self.dphi_ii for x in range(3)] # Derivateve of base phi_ii evaluated in the quadrature points\n",
    "    def phi_i(self,x):\n",
    "        # Correspondent phi_i function to the given element\n",
    "        return (self.interval[1]-x)/(self.length)\n",
    "    \n",
    "    def phi_ii(self,x):\n",
    "        # Correspondent phi_i+1 function to the given element\n",
    "        return (x-self.interval[0])/(self.length)\n",
    "    \n",
    "    def setlocalMatrix_A(self,a11,a12,a21,a22):\n",
    "        # this function sets up the local matrix A (matrix for spatial base derivative) corresponding to the element\n",
    "        self.localMatrix_A = np.array([[a11,a12],[a21,a22]])\n",
    "        \n",
    "    def setlocalMatrix_M(self,m11,m12,m21,m22):\n",
    "        # this function sets up the local matrix M (matrix for spatial base) corresponding to the element\n",
    "        self.localMatrix_M = np.array([[m11,m12],[m21,m22]])\n",
    "        \n",
    "    def setlocalMatrix_Q(self,q11,q12,q21,q22):\n",
    "        # this function sets up the local matrix Q (non-linear matrix) corresponding to the element\n",
    "        self.localMatrix_Q = np.array([[q11,q12],[q21,q22]])\n",
    "    \n",
    "    def setlocalside_b(self,b1,b2):\n",
    "        # this function sets up the local side b corresponding to the element\n",
    "        self.localside_b = np.array([b1,b2])\n",
    "        \n",
    "    def setlocalside_mm(self,mm1,mm2):\n",
    "        # this function sets up the nonlinear local side mm corresponding to the element\n",
    "        self.localside_mm = np.array([mm1,mm2])"
   ]
  },
  {
   "cell_type": "markdown",
   "metadata": {},
   "source": [
    "## 1. Solution of the problem: \n",
    "# $$ -u''+[2+\\sin(u(x))]=\\sin(x)$$\n",
    "## In the interval $x \\in [0,1]$"
   ]
  },
  {
   "cell_type": "markdown",
   "metadata": {},
   "source": [
    "### 1.1 We first solve the problem: \n",
    "## $$ -u_0''+[2+u_0(x)]=\\sin(x)$$\n",
    "### In the interval $x \\in [0,1]$"
   ]
  },
  {
   "cell_type": "code",
   "execution_count": 206,
   "metadata": {
    "collapsed": true
   },
   "outputs": [],
   "source": [
    "def setProblem():\n",
    "    \"\"\"Setting up of the Problem parameters\"\"\"\n",
    "    interval = [0.,1.]\n",
    "    return interval,lambda x: np.sin(x)"
   ]
  },
  {
   "cell_type": "code",
   "execution_count": 207,
   "metadata": {
    "collapsed": true
   },
   "outputs": [],
   "source": [
    "# Setting problem up and making of all  elements\n",
    "interval,f = setProblem() # initialising the interval of solution and functions f(x) \n",
    "partitions = 50\n",
    "listElements = [] \n",
    "for i in xrange(partitions): # Generates a list of elements to be iterated\n",
    "    Elementi = Element(i+1,interval,partitions)\n",
    "    listElements.append(Elementi)"
   ]
  },
  {
   "cell_type": "code",
   "execution_count": 208,
   "metadata": {
    "collapsed": false
   },
   "outputs": [],
   "source": [
    "# Setting up the all \"constant\" local matrices\n",
    "\n",
    "for e in listElements:#The matrix elements a11,a12,a21,a22,m11,m12,m21,m22 and the sides b1,b2 are computed with the galerkin method results\n",
    "    a11 = sum([x*x*y for x,y in zip(e.int_dphi_i,e.omega)])\n",
    "    a12 = sum([x*y*z for x,y,z in zip(e.int_dphi_i,e.int_dphi_ii,e.omega)])\n",
    "    a22 = sum([x*x*y for x,y in zip(e.int_dphi_ii,e.omega)])\n",
    "    e.setlocalMatrix_A(a11,a12,a12,a22)\n",
    "    m11 = sum([x*x*y for x,y in zip(e.int_phi_i,e.omega)])\n",
    "    m12 = sum([x*y*z for x,y,z in zip(e.int_phi_i,e.int_phi_ii,e.omega)])\n",
    "    m22 = sum([x*x*y for x,y in zip(e.int_phi_ii,e.omega)])\n",
    "    e.setlocalMatrix_M(m11,m12,m12,m22)\n",
    "    b1 = sum([x*y*(f(z)-2.) for x,y,z in zip(e.int_phi_i,e.omega,e.x_q)])\n",
    "    b2 = sum([x*y*(f(z)-2.) for x,y,z in zip(e.int_phi_ii,e.omega,e.x_q)])\n",
    "    e.setlocalside_b(b1,b2)\n"
   ]
  },
  {
   "cell_type": "code",
   "execution_count": 209,
   "metadata": {
    "collapsed": false
   },
   "outputs": [
    {
     "name": "stdout",
     "output_type": "stream",
     "text": [
      "(51, 51)\n",
      "(51, 1)\n"
     ]
    }
   ],
   "source": [
    "# Setting up the \"constant\" Global matrices A and M and global side b\n",
    "\n",
    "A = np.zeros((partitions+1,partitions+1))\n",
    "M = np.zeros((partitions+1,partitions+1))\n",
    "b = np.zeros((partitions+1,1))\n",
    "for e in listElements:# Setting up the Global matrices A and M and global side b using the contribution of each element\n",
    "    A[e.index-1][e.index-1] +=e.localMatrix_A[0][0]\n",
    "    A[e.index-1][e.index] +=e.localMatrix_A[0][1] \n",
    "    A[e.index][e.index-1] +=e.localMatrix_A[1][0]  \n",
    "    A[e.index][e.index] +=e.localMatrix_A[1][1]\n",
    "    M[e.index-1][e.index-1] +=e.localMatrix_M[0][0]\n",
    "    M[e.index-1][e.index] +=e.localMatrix_M[0][1] \n",
    "    M[e.index][e.index-1] +=e.localMatrix_M[1][0]  \n",
    "    M[e.index][e.index] +=e.localMatrix_M[1][1]  \n",
    "    b[e.index-1] += e.localside_b[0]\n",
    "    b[e.index] += e.localside_b[1]\n",
    "\n",
    "print A.shape\n",
    "print b.shape"
   ]
  },
  {
   "cell_type": "markdown",
   "metadata": {},
   "source": [
    "### 1.1  Using Dirichlet boundary conditions $u(0)=0$ and $u(1)=1$"
   ]
  },
  {
   "cell_type": "code",
   "execution_count": 210,
   "metadata": {
    "collapsed": false
   },
   "outputs": [
    {
     "name": "stdout",
     "output_type": "stream",
     "text": [
      "(51, 1)\n"
     ]
    }
   ],
   "source": [
    "# setting up the dirichlet boundary conditions\n",
    "alpha_d = np.zeros((partitions+1,1))\n",
    "alpha_d[0]=0# boundary condition u(0)=0\n",
    "alpha_d[-1]=1# boundary condition u(1)=1\n",
    "b_l=b-np.dot(A+M, alpha_d)# Updating the local side with the boundary conditions\n",
    "print b_l.shape"
   ]
  },
  {
   "cell_type": "code",
   "execution_count": 211,
   "metadata": {
    "collapsed": false
   },
   "outputs": [
    {
     "name": "stdout",
     "output_type": "stream",
     "text": [
      "(51, 1) (51, 51) (49, 1) (49, 49) (49, 1)\n"
     ]
    }
   ],
   "source": [
    "#Solving the linear system with dirichlet transformed system\n",
    "A_1=A\n",
    "M_1=M\n",
    "b_1=b_l\n",
    "A_1 = np.delete(A_1, (0), axis=0) #updating A to the B.C.\n",
    "A_1 = np.delete(A_1, (-1), axis=0)\n",
    "A_1 = np.delete(A_1,(0), axis=1)\n",
    "A_1 = np.delete(A_1,(-1), axis=1)\n",
    "M_1 = np.delete(M_1, (0), axis=0) #updating M to the B.C.\n",
    "M_1 = np.delete(M_1, (-1), axis=0)\n",
    "M_1 = np.delete(M_1,(0), axis=1)\n",
    "M_1 = np.delete(M_1,(-1), axis=1)\n",
    "b_1 = np.delete(b_1, (0), axis=0) #updating b to the B.C.\n",
    "b_1 = np.delete(b_1, (-1), axis=0)\n",
    "alpha_0 = np.linalg.solve(A_1+M_1, b_1) #solving linear system\n",
    "#print alpha_0\n",
    "print b.shape,A.shape,b_1.shape,A_1.shape,alpha_0.shape"
   ]
  },
  {
   "cell_type": "code",
   "execution_count": 212,
   "metadata": {
    "collapsed": false
   },
   "outputs": [],
   "source": [
    "#appending the boundary values for dirichlet B.C.\n",
    "alpha = np.append([[alpha_d[0]]],alpha_0)\n",
    "alpha = np.append(alpha, [[alpha_d[-1]]])\n",
    "alphas = []\n",
    "alphas.append(alpha)\n",
    "#print alpha"
   ]
  },
  {
   "cell_type": "code",
   "execution_count": 213,
   "metadata": {
    "collapsed": true
   },
   "outputs": [],
   "source": [
    "#analytical solution for dirichlet(this problem has an analytical solution)\n",
    "def u_anal(x):\n",
    "    return  (np.exp(-x)*((np.exp(2.) - 1.)*np.exp(x)*np.sin(x)-(np.exp(x)-1.)*(4.*np.exp(x)+np.exp(x+1.)*(np.sin(1.)-6.)+4.*np.exp(2.)+np.exp(1.)*(np.sin(1.) - 6.))))/(2.*(np.exp(2.)-1.))"
   ]
  },
  {
   "cell_type": "code",
   "execution_count": 214,
   "metadata": {
    "collapsed": false
   },
   "outputs": [
    {
     "data": {
      "image/png": "[encoded data removed]",
      "text/plain": [
       "<matplotlib.figure.Figure at 0x7f9c77743650>"
      ]
     },
     "metadata": {},
     "output_type": "display_data"
    }
   ],
   "source": [
    "#Plot of the Numerical and Analytical solution \n",
    "y = np.linspace(interval[0],interval[1],partitions+1) #Plot of numerical solution\n",
    "plt.plot(y,alpha,'r')\n",
    "y_1 = np.arange(interval[0],interval[1],0.001)#Plot of analytical solution\n",
    "plt.plot(y_1,u_anal(y_1), 'b')\n",
    "plt.show()"
   ]
  },
  {
   "cell_type": "markdown",
   "metadata": {},
   "source": [
    "### 1.2 Now we solve the complete problem: \n",
    "## $$ -u''+[2+\\sin(u(x))]=\\sin(x)$$\n",
    "### In the interval $x \\in [0,1]$ as a series of problems with Newton"
   ]
  },
  {
   "cell_type": "code",
   "execution_count": 215,
   "metadata": {
    "collapsed": false
   },
   "outputs": [],
   "source": [
    "# Iteration for Newton\n",
    "\n",
    "for i in xrange(300):\n",
    "    \n",
    "    # Setting up the all non-linear local matrices and sides\n",
    "\n",
    "    for e in listElements:#The matrix elements q11,q12,q21,q22 and the sides mm1,mm2 are computed with the galerkin method results\n",
    "        q11 = sum([x*x*y*np.cos(alpha[e.index-1]*e.phi_i(z)+alpha[e.index]*e.phi_ii(z)) for x,y,z in zip(e.int_phi_i,e.omega,e.x_q)])\n",
    "        q12 = sum([x*y*w*np.cos(alpha[e.index-1]*e.phi_i(z)+alpha[e.index]*e.phi_ii(z)) for x,y,w,z in zip(e.int_phi_i,e.int_phi_ii,e.omega,e.x_q)])\n",
    "        q22 = sum([x*x*y*np.cos(alpha[e.index-1]*e.phi_i(z)+alpha[e.index]*e.phi_ii(z)) for x,y,z in zip(e.int_phi_ii,e.omega,e.x_q)])\n",
    "        e.setlocalMatrix_Q(q11,q12,q12,q22)\n",
    "        mm1 = sum([x*y*np.sin(alpha[e.index-1]*e.phi_i(z)+alpha[e.index]*e.phi_ii(z)) for x,y,z in zip(e.int_phi_i,e.omega,e.x_q)])\n",
    "        mm2 = sum([x*y*np.sin(alpha[e.index-1]*e.phi_i(z)+alpha[e.index]*e.phi_ii(z)) for x,y,z in zip(e.int_phi_ii,e.omega,e.x_q)])\n",
    "        e.setlocalside_mm(mm1,mm2)\n",
    "\n",
    "    # Setting up the non-linear Global matrix Q and global side mm\n",
    "\n",
    "    Q = np.zeros((partitions+1,partitions+1))\n",
    "    mm = np.zeros((partitions+1,1))\n",
    "    for e in listElements:# Setting up the non-linear Global matrix Q and global side mm using the contribution of each element\n",
    "        Q[e.index-1][e.index-1] +=e.localMatrix_Q[0][0]\n",
    "        Q[e.index-1][e.index] +=e.localMatrix_Q[0][1] \n",
    "        Q[e.index][e.index-1] +=e.localMatrix_Q[1][0]  \n",
    "        Q[e.index][e.index] +=e.localMatrix_Q[1][1]  \n",
    "        mm[e.index-1] += e.localside_mm[0]\n",
    "        mm[e.index] += e.localside_mm[1]\n",
    "\n",
    "    # setting up the dirichlet boundary conditions\n",
    "    h_d = np.zeros((partitions+1,1))\n",
    "    h_d[0]=0# boundary condition h(0)=0\n",
    "    h_d[-1]=0# boundary condition h(1)=0\n",
    "    b_nl=b-np.dot(A+Q, alpha_d)# Updating the local side with the boundary conditions\n",
    "\n",
    "    #Solving the linear system with dirichlet transformed system\n",
    "    Q_1=Q\n",
    "    mm_1=mm\n",
    "    b_2=b_nl\n",
    "    Q_1 = np.delete(Q_1, (0), axis=0) #updating Q to the B.C.\n",
    "    Q_1 = np.delete(Q_1, (-1), axis=0)\n",
    "    Q_1 = np.delete(Q_1,(0), axis=1)\n",
    "    Q_1 = np.delete(Q_1,(-1), axis=1)\n",
    "    mm_1 = np.delete(mm_1, (0), axis=0) #updating mm to the B.C.\n",
    "    mm_1 = np.delete(mm_1, (-1), axis=0)\n",
    "    b_2 = np.delete(b_2, (0), axis=0) #updating b to the B.C.\n",
    "    b_2 = np.delete(b_2, (-1), axis=0)\n",
    "    h_n = np.linalg.solve(A_1+Q_1,-np.dot(A_1, alpha_0)- mm_1 + b_2 ) #solving linear system\n",
    "\n",
    "    #appending the boundary values for dirichlet B.C.\n",
    "    h_n = np.append([[h_d[0]]],h_n)\n",
    "    h_n = np.append(h_n, [[h_d[-1]]])\n",
    "    #print  h_n\n",
    "    alpha = alpha + h_n\n",
    "    alphas.append(alpha)"
   ]
  },
  {
   "cell_type": "code",
   "execution_count": 216,
   "metadata": {
    "collapsed": false
   },
   "outputs": [
    {
     "data": {
      "image/png": "[encoded data removed]",
      "text/plain": [
       "<matplotlib.figure.Figure at 0x7f9c77865990>"
      ]
     },
     "metadata": {},
     "output_type": "display_data"
    }
   ],
   "source": [
    "y = np.linspace(interval[0],interval[1],partitions+1) #Plot of numerical solution\n",
    "color = ['k','r','g','b','y']\n",
    "for i,j in enumerate(alphas) :\n",
    "    plt.plot(y,j,color[i%5]) #Plot of numerical solution iteration 0\n",
    "plt.show()"
   ]
  },
  {
   "cell_type": "code",
   "execution_count": 217,
   "metadata": {
    "collapsed": false
   },
   "outputs": [
    {
     "data": {
      "image/png": "[encoded data removed]",
      "text/plain": [
       "<matplotlib.figure.Figure at 0x7f9c7774c750>"
      ]
     },
     "metadata": {},
     "output_type": "display_data"
    }
   ],
   "source": [
    "plt.plot(y,alphas[-20],'b')\n",
    "plt.plot(y,alphas[-1],'r') #Plot of numerical solution iteration 0\n",
    "plt.show()"
   ]
  },
  {
   "cell_type": "markdown",
   "metadata": {},
   "source": [
    "## 1. Solution of the problem: \n",
    "# $$ -u''+[2+\\sin(u(x))]=e^{\\sin(x)+1}$$\n",
    "## In the interval $x \\in [0,1]$"
   ]
  },
  {
   "cell_type": "markdown",
   "metadata": {},
   "source": [
    "### 1.1 We first solve the problem: \n",
    "## $$ -u_0''+[2+u_0(x)]=e^{\\sin(x)+1}$$\n",
    "### In the interval $x \\in [0,1]$"
   ]
  },
  {
   "cell_type": "code",
   "execution_count": null,
   "metadata": {
    "collapsed": false
   },
   "outputs": [
    {
     "data": {
      "image/png": "[encoded data removed]",
      "text/plain": [
       "<matplotlib.figure.Figure at 0x7f9c7c65c3d0>"
      ]
     },
     "metadata": {},
     "output_type": "display_data"
    }
   ],
   "source": [
    "def setProblem():\n",
    "    \"\"\"Setting up of the Problem parameters\"\"\"\n",
    "    interval = [0.,1.]\n",
    "    return interval,lambda x: np.exp(np.sin(x)+1)\n",
    "# Setting problem up and making of all  elements\n",
    "interval,f = setProblem() # initialising the interval of solution and functions f(x) \n",
    "partitions = 100\n",
    "listElements = [] \n",
    "for i in xrange(partitions): # Generates a list of elements to be iterated\n",
    "    Elementi = Element(i+1,interval,partitions)\n",
    "    listElements.append(Elementi)\n",
    "# Setting up the all \"constant\" local matrices\n",
    "\n",
    "for e in listElements:#The matrix elements a11,a12,a21,a22,m11,m12,m21,m22 and the sides b1,b2 are computed with the galerkin method results\n",
    "    a11 = sum([x*x*y for x,y in zip(e.int_dphi_i,e.omega)])\n",
    "    a12 = sum([x*y*z for x,y,z in zip(e.int_dphi_i,e.int_dphi_ii,e.omega)])\n",
    "    a22 = sum([x*x*y for x,y in zip(e.int_dphi_ii,e.omega)])\n",
    "    e.setlocalMatrix_A(a11,a12,a12,a22)\n",
    "    m11 = sum([x*x*y for x,y in zip(e.int_phi_i,e.omega)])\n",
    "    m12 = sum([x*y*z for x,y,z in zip(e.int_phi_i,e.int_phi_ii,e.omega)])\n",
    "    m22 = sum([x*x*y for x,y in zip(e.int_phi_ii,e.omega)])\n",
    "    e.setlocalMatrix_M(m11,m12,m12,m22)\n",
    "    b1 = sum([x*y*(f(z)-2.) for x,y,z in zip(e.int_phi_i,e.omega,e.x_q)])\n",
    "    b2 = sum([x*y*(f(z)-2.) for x,y,z in zip(e.int_phi_ii,e.omega,e.x_q)])\n",
    "    e.setlocalside_b(b1,b2)\n",
    "# Setting up the \"constant\" Global matrices A and M and global side b\n",
    "\n",
    "A = np.zeros((partitions+1,partitions+1))\n",
    "M = np.zeros((partitions+1,partitions+1))\n",
    "b = np.zeros((partitions+1,1))\n",
    "for e in listElements:# Setting up the Global matrices A and M and global side b using the contribution of each element\n",
    "    A[e.index-1][e.index-1] +=e.localMatrix_A[0][0]\n",
    "    A[e.index-1][e.index] +=e.localMatrix_A[0][1] \n",
    "    A[e.index][e.index-1] +=e.localMatrix_A[1][0]  \n",
    "    A[e.index][e.index] +=e.localMatrix_A[1][1]\n",
    "    M[e.index-1][e.index-1] +=e.localMatrix_M[0][0]\n",
    "    M[e.index-1][e.index] +=e.localMatrix_M[0][1] \n",
    "    M[e.index][e.index-1] +=e.localMatrix_M[1][0]  \n",
    "    M[e.index][e.index] +=e.localMatrix_M[1][1]  \n",
    "    b[e.index-1] += e.localside_b[0]\n",
    "    b[e.index] += e.localside_b[1]\n",
    "\n",
    "# setting up the dirichlet boundary conditions\n",
    "alpha_d = np.zeros((partitions+1,1))\n",
    "alpha_d[0]=0# boundary condition u(0)=0\n",
    "alpha_d[-1]=1# boundary condition u(1)=1\n",
    "b_l=b-np.dot(A+M, alpha_d)# Updating the local side with the boundary conditions\n",
    "\n",
    "#Solving the linear system with dirichlet transformed system\n",
    "A_1=A\n",
    "M_1=M\n",
    "b_1=b_l\n",
    "A_1 = np.delete(A_1, (0), axis=0) #updating A to the B.C.\n",
    "A_1 = np.delete(A_1, (-1), axis=0)\n",
    "A_1 = np.delete(A_1,(0), axis=1)\n",
    "A_1 = np.delete(A_1,(-1), axis=1)\n",
    "M_1 = np.delete(M_1, (0), axis=0) #updating M to the B.C.\n",
    "M_1 = np.delete(M_1, (-1), axis=0)\n",
    "M_1 = np.delete(M_1,(0), axis=1)\n",
    "M_1 = np.delete(M_1,(-1), axis=1)\n",
    "b_1 = np.delete(b_1, (0), axis=0) #updating b to the B.C.\n",
    "b_1 = np.delete(b_1, (-1), axis=0)\n",
    "alpha_0 = np.linalg.solve(A_1+M_1, b_1) #solving linear system\n",
    "\n",
    "#appending the boundary values for dirichlet B.C.\n",
    "alpha = np.append([[alpha_d[0]]],alpha_0)\n",
    "alpha = np.append(alpha, [[alpha_d[-1]]])\n",
    "alphas = []\n",
    "alphas.append(alpha)\n",
    "\n",
    "#Plot of the Numerical solution \n",
    "y = np.linspace(interval[0],interval[1],partitions+1) #Plot of numerical solution\n",
    "plt.plot(y,alpha,'r')\n",
    "plt.show()\n",
    "\n",
    "# Iteration for Newton\n",
    "\n",
    "for i in xrange(1000):\n",
    "    \n",
    "    # Setting up the all non-linear local matrices and sides\n",
    "\n",
    "    for e in listElements:#The matrix elements q11,q12,q21,q22 and the sides mm1,mm2 are computed with the galerkin method results\n",
    "        q11 = sum([x*x*y*np.cos(alpha[e.index-1]*e.phi_i(z)+alpha[e.index]*e.phi_ii(z)) for x,y,z in zip(e.int_phi_i,e.omega,e.x_q)])\n",
    "        q12 = sum([x*y*w*np.cos(alpha[e.index-1]*e.phi_i(z)+alpha[e.index]*e.phi_ii(z)) for x,y,w,z in zip(e.int_phi_i,e.int_phi_ii,e.omega,e.x_q)])\n",
    "        q22 = sum([x*x*y*np.cos(alpha[e.index-1]*e.phi_i(z)+alpha[e.index]*e.phi_ii(z)) for x,y,z in zip(e.int_phi_ii,e.omega,e.x_q)])\n",
    "        e.setlocalMatrix_Q(q11,q12,q12,q22)\n",
    "        mm1 = sum([x*y*np.sin(alpha[e.index-1]*e.phi_i(z)+alpha[e.index]*e.phi_ii(z)) for x,y,z in zip(e.int_phi_i,e.omega,e.x_q)])\n",
    "        mm2 = sum([x*y*np.sin(alpha[e.index-1]*e.phi_i(z)+alpha[e.index]*e.phi_ii(z)) for x,y,z in zip(e.int_phi_ii,e.omega,e.x_q)])\n",
    "        e.setlocalside_mm(mm1,mm2)\n",
    "\n",
    "    # Setting up the non-linear Global matrix Q and global side mm\n",
    "\n",
    "    Q = np.zeros((partitions+1,partitions+1))\n",
    "    mm = np.zeros((partitions+1,1))\n",
    "    for e in listElements:# Setting up the non-linear Global matrix Q and global side mm using the contribution of each element\n",
    "        Q[e.index-1][e.index-1] +=e.localMatrix_Q[0][0]\n",
    "        Q[e.index-1][e.index] +=e.localMatrix_Q[0][1] \n",
    "        Q[e.index][e.index-1] +=e.localMatrix_Q[1][0]  \n",
    "        Q[e.index][e.index] +=e.localMatrix_Q[1][1]  \n",
    "        mm[e.index-1] += e.localside_mm[0]\n",
    "        mm[e.index] += e.localside_mm[1]\n",
    "\n",
    "    # setting up the dirichlet boundary conditions\n",
    "    h_d = np.zeros((partitions+1,1))\n",
    "    h_d[0]=0# boundary condition h(0)=0\n",
    "    h_d[-1]=0# boundary condition h(1)=0\n",
    "    b_nl=b-np.dot(A+Q, alpha_d)# Updating the local side with the boundary conditions\n",
    "\n",
    "    #Solving the linear system with dirichlet transformed system\n",
    "    Q_1=Q\n",
    "    mm_1=mm\n",
    "    b_2=b_nl\n",
    "    Q_1 = np.delete(Q_1, (0), axis=0) #updating Q to the B.C.\n",
    "    Q_1 = np.delete(Q_1, (-1), axis=0)\n",
    "    Q_1 = np.delete(Q_1,(0), axis=1)\n",
    "    Q_1 = np.delete(Q_1,(-1), axis=1)\n",
    "    mm_1 = np.delete(mm_1, (0), axis=0) #updating mm to the B.C.\n",
    "    mm_1 = np.delete(mm_1, (-1), axis=0)\n",
    "    b_2 = np.delete(b_2, (0), axis=0) #updating b to the B.C.\n",
    "    b_2 = np.delete(b_2, (-1), axis=0)\n",
    "    h_n = np.linalg.solve(A_1+Q_1,-np.dot(A_1, alpha_0)- mm_1 + b_2 ) #solving linear system\n",
    "\n",
    "    #appending the boundary values for dirichlet B.C.\n",
    "    h_n = np.append([[h_d[0]]],h_n)\n",
    "    h_n = np.append(h_n, [[h_d[-1]]])\n",
    "#    if i%10 == 0:\n",
    " #       print  h_n\n",
    "    alpha = alpha + h_n\n",
    "    alphas.append(alpha)\n",
    "\n",
    "ax = plt.axes(xlim=(0, 1), ylim=(0, 1.5))\n",
    "y = np.linspace(interval[0],interval[1],partitions+1) #Plot of numerical solution\n",
    "color = ['k','r','g','b','y']\n",
    "for i,j in enumerate(alphas) :\n",
    "    plt.plot(y,j,color[i%5]) #Plot of numerical solution iteration 0\n",
    "plt.show()\n",
    "\n",
    "ax = plt.axes(xlim=(0, 1), ylim=(0, 1.5))\n",
    "plt.plot(y,alphas[-50],'b')\n",
    "plt.plot(y,alphas[-1],'r') #Plot of numerical solution iteration 0\n",
    "plt.show()"
   ]
  },
  {
   "cell_type": "code",
   "execution_count": null,
   "metadata": {
    "collapsed": true
   },
   "outputs": [],
   "source": []
  },
  {
   "cell_type": "code",
   "execution_count": null,
   "metadata": {
    "collapsed": true
   },
   "outputs": [],
   "source": []
  }
 ],
 "metadata": {
  "kernelspec": {
   "display_name": "Python 2",
   "language": "python",
   "name": "python2"
  },
  "language_info": {
   "codemirror_mode": {
    "name": "ipython",
    "version": 2
   },
   "file_extension": ".py",
   "mimetype": "text/x-python",
   "name": "python",
   "nbconvert_exporter": "python",
   "pygments_lexer": "ipython2",
   "version": "2.7.12"
  }
 },
 "nbformat": 4,
 "nbformat_minor": 1
}
